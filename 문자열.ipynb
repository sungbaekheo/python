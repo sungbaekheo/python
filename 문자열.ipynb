{
 "cells": [
  {
   "cell_type": "code",
   "execution_count": 1,
   "id": "e7aabe65",
   "metadata": {},
   "outputs": [],
   "source": [
    "sentence = \"my name is Sungbaek\""
   ]
  },
  {
   "cell_type": "code",
   "execution_count": 3,
   "id": "382b7d4f",
   "metadata": {},
   "outputs": [
    {
     "data": {
      "text/plain": [
       "'name'"
      ]
     },
     "execution_count": 3,
     "metadata": {},
     "output_type": "execute_result"
    }
   ],
   "source": [
    "sentence[3:-12]"
   ]
  },
  {
   "cell_type": "code",
   "execution_count": 6,
   "id": "3f9fe5fb",
   "metadata": {},
   "outputs": [
    {
     "data": {
      "text/plain": [
       "'keabgnuS si eman ym'"
      ]
     },
     "execution_count": 6,
     "metadata": {},
     "output_type": "execute_result"
    }
   ],
   "source": [
    "sentence[::-1]"
   ]
  },
  {
   "cell_type": "markdown",
   "id": "cf3b2442",
   "metadata": {},
   "source": [
    "### 포맷 사용하기"
   ]
  },
  {
   "cell_type": "code",
   "execution_count": 29,
   "id": "947dcbe1",
   "metadata": {},
   "outputs": [
    {
     "name": "stdout",
     "output_type": "stream",
     "text": [
      "오늘의 메뉴는 곱창볶음과 꽈배기입니다.\n",
      "오늘의 메뉴는 곱창볶음과 꽈배기입니다.\n"
     ]
    }
   ],
   "source": [
    "lunch_menu1 = \"곱창볶음\"\n",
    "lunch_menu2 = \"꽈배기\"\n",
    "lunch_menu3 = \"짬뽕\"\n",
    "\n",
    "print(f\"오늘의 메뉴는 {lunch_menu1}과 {lunch_menu2}입니다.\")\n",
    "print(\"오늘의 메뉴는 {0}과 {1}입니다.\".format(lunch_menu1, lunch_menu2))"
   ]
  },
  {
   "cell_type": "markdown",
   "id": "752517ea",
   "metadata": {},
   "source": [
    "### 변수 x에 100을 대입하고, 변수 y에 200을 대입한 뒤, 변수 add에 x와 y의 합을 대입합니다.\n",
    "\n",
    "- 그 후, 대입한 변수를 바탕으로 아래 문자를 출력합니다.\n",
    "- \"100과 200의 합은 300입니다.\""
   ]
  },
  {
   "cell_type": "code",
   "execution_count": 30,
   "id": "c9315630",
   "metadata": {},
   "outputs": [
    {
     "name": "stdout",
     "output_type": "stream",
     "text": [
      "100과 200의 합은 300입니다.\n"
     ]
    }
   ],
   "source": [
    "x = 100\n",
    "y = 200\n",
    "add = x + y\n",
    "\n",
    "print(f\"{x}과 {y}의 합은 {add}입니다.\")"
   ]
  },
  {
   "cell_type": "code",
   "execution_count": 1,
   "id": "ebd32f4f",
   "metadata": {},
   "outputs": [],
   "source": [
    "song = \"tell me tell me tetetete tell me\""
   ]
  },
  {
   "cell_type": "code",
   "execution_count": 2,
   "id": "6744aa50",
   "metadata": {},
   "outputs": [
    {
     "data": {
      "text/plain": [
       "0"
      ]
     },
     "execution_count": 2,
     "metadata": {},
     "output_type": "execute_result"
    }
   ],
   "source": [
    "song.find(\"tell\")"
   ]
  },
  {
   "cell_type": "code",
   "execution_count": 3,
   "id": "95ae8e22",
   "metadata": {},
   "outputs": [
    {
     "data": {
      "text/plain": [
       "3"
      ]
     },
     "execution_count": 3,
     "metadata": {},
     "output_type": "execute_result"
    }
   ],
   "source": [
    "song.count(\"tell me\")"
   ]
  },
  {
   "cell_type": "code",
   "execution_count": 4,
   "id": "8c287af3",
   "metadata": {},
   "outputs": [
    {
     "data": {
      "text/plain": [
       "16"
      ]
     },
     "execution_count": 4,
     "metadata": {},
     "output_type": "execute_result"
    }
   ],
   "source": [
    "song.find(\"tetetete\")"
   ]
  },
  {
   "cell_type": "code",
   "execution_count": 5,
   "id": "00b11728",
   "metadata": {},
   "outputs": [
    {
     "data": {
      "text/plain": [
       "'TELL ME TELL ME TETETETE TELL ME'"
      ]
     },
     "execution_count": 5,
     "metadata": {},
     "output_type": "execute_result"
    }
   ],
   "source": [
    "song.upper()"
   ]
  },
  {
   "cell_type": "code",
   "execution_count": 6,
   "id": "68f06e89",
   "metadata": {},
   "outputs": [
    {
     "data": {
      "text/plain": [
       "'tell me tell me tetetete tell me'"
      ]
     },
     "execution_count": 6,
     "metadata": {},
     "output_type": "execute_result"
    }
   ],
   "source": [
    "song"
   ]
  },
  {
   "cell_type": "code",
   "execution_count": 7,
   "id": "3ca88de0",
   "metadata": {},
   "outputs": [
    {
     "data": {
      "text/plain": [
       "'tell me tell me tetetete tell me'"
      ]
     },
     "execution_count": 7,
     "metadata": {},
     "output_type": "execute_result"
    }
   ],
   "source": [
    "song.lower()"
   ]
  },
  {
   "cell_type": "code",
   "execution_count": 8,
   "id": "f2cc96c6",
   "metadata": {},
   "outputs": [
    {
     "data": {
      "text/plain": [
       "'Tell Me Tell Me Tetetete Tell Me'"
      ]
     },
     "execution_count": 8,
     "metadata": {},
     "output_type": "execute_result"
    }
   ],
   "source": [
    "song.title()\n"
   ]
  },
  {
   "cell_type": "code",
   "execution_count": 10,
   "id": "5aa629cc",
   "metadata": {},
   "outputs": [
    {
     "data": {
      "text/plain": [
       "'yell me yell me yeyeyeye yell me'"
      ]
     },
     "execution_count": 10,
     "metadata": {},
     "output_type": "execute_result"
    }
   ],
   "source": [
    "song.replace(\"t\", \"y\")"
   ]
  },
  {
   "cell_type": "code",
   "execution_count": 11,
   "id": "0cfa229a",
   "metadata": {},
   "outputs": [
    {
     "data": {
      "text/plain": [
       "['tell', 'me', 'tell', 'me', 'tetetete', 'tell', 'me']"
      ]
     },
     "execution_count": 11,
     "metadata": {},
     "output_type": "execute_result"
    }
   ],
   "source": [
    "song.split(\" \")"
   ]
  },
  {
   "cell_type": "code",
   "execution_count": 13,
   "id": "ec21b5f1",
   "metadata": {},
   "outputs": [
    {
     "data": {
      "text/plain": [
       "['tell me tell me tetetete tell me']"
      ]
     },
     "execution_count": 13,
     "metadata": {},
     "output_type": "execute_result"
    }
   ],
   "source": [
    "song.split(\",\")"
   ]
  },
  {
   "cell_type": "code",
   "execution_count": 15,
   "id": "56baade3",
   "metadata": {},
   "outputs": [
    {
     "data": {
      "text/plain": [
       "['나는 밥을 먹었다', '아주 맛이 있었다.']"
      ]
     },
     "execution_count": 15,
     "metadata": {},
     "output_type": "execute_result"
    }
   ],
   "source": [
    "\"나는 밥을 먹었다. 아주 맛이 있었다.\".split(\". \")"
   ]
  },
  {
   "cell_type": "code",
   "execution_count": 16,
   "id": "1269367b",
   "metadata": {},
   "outputs": [],
   "source": [
    "ah_ryeon = \"...........tell...............\""
   ]
  },
  {
   "cell_type": "code",
   "execution_count": 17,
   "id": "2b0c13a8",
   "metadata": {},
   "outputs": [
    {
     "data": {
      "text/plain": [
       "'...........tell...............'"
      ]
     },
     "execution_count": 17,
     "metadata": {},
     "output_type": "execute_result"
    }
   ],
   "source": [
    "ah_ryeon.strip()"
   ]
  },
  {
   "cell_type": "code",
   "execution_count": 23,
   "id": "d36935b0",
   "metadata": {},
   "outputs": [
    {
     "data": {
      "text/plain": [
       "'tell'"
      ]
     },
     "execution_count": 23,
     "metadata": {},
     "output_type": "execute_result"
    }
   ],
   "source": [
    "ah_ryeon.strip(\".\")"
   ]
  },
  {
   "cell_type": "code",
   "execution_count": 19,
   "id": "c1c56f39",
   "metadata": {},
   "outputs": [
    {
     "data": {
      "text/plain": [
       "'...........tell'"
      ]
     },
     "execution_count": 19,
     "metadata": {},
     "output_type": "execute_result"
    }
   ],
   "source": [
    "ah_ryeon.rstrip(\".\")"
   ]
  },
  {
   "cell_type": "code",
   "execution_count": 20,
   "id": "3ffd5096",
   "metadata": {},
   "outputs": [
    {
     "data": {
      "text/plain": [
       "'tell...............'"
      ]
     },
     "execution_count": 20,
     "metadata": {},
     "output_type": "execute_result"
    }
   ],
   "source": [
    "ah_ryeon.lstrip(\".\")"
   ]
  },
  {
   "cell_type": "code",
   "execution_count": null,
   "id": "351851ad",
   "metadata": {},
   "outputs": [],
   "source": []
  }
 ],
 "metadata": {
  "kernelspec": {
   "display_name": "Python 3 (ipykernel)",
   "language": "python",
   "name": "python3"
  },
  "language_info": {
   "codemirror_mode": {
    "name": "ipython",
    "version": 3
   },
   "file_extension": ".py",
   "mimetype": "text/x-python",
   "name": "python",
   "nbconvert_exporter": "python",
   "pygments_lexer": "ipython3",
   "version": "3.9.12"
  }
 },
 "nbformat": 4,
 "nbformat_minor": 5
}
