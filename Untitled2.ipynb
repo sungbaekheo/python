{
 "cells": [
  {
   "cell_type": "code",
   "execution_count": null,
   "id": "51a0351c",
   "metadata": {},
   "outputs": [
    {
     "name": "stdout",
     "output_type": "stream",
     "text": [
      "5\n",
      "OOXXOXXOOO\n",
      "10\n",
      "OOXXOOXXOO\n",
      "9\n",
      "OXOXOXOXOXOXOX\n",
      "7\n",
      "OOOOOOOOOO\n",
      "55\n"
     ]
    }
   ],
   "source": [
    "\n",
    "num = int(input())\n",
    "\n",
    "for i in range(num):\n",
    "    count = 0;\n",
    "    total = 0;\n",
    "    answer = input()\n",
    "    for i in range(len(answer)):\n",
    "        if(answer[i] == \"O\"):\n",
    "            count += 1\n",
    "        else:\n",
    "            count = 0\n",
    "        total += count\n",
    "    print(total)"
   ]
  },
  {
   "cell_type": "code",
   "execution_count": null,
   "id": "efc48c5e",
   "metadata": {},
   "outputs": [],
   "source": []
  }
 ],
 "metadata": {
  "kernelspec": {
   "display_name": "Python 3 (ipykernel)",
   "language": "python",
   "name": "python3"
  },
  "language_info": {
   "codemirror_mode": {
    "name": "ipython",
    "version": 3
   },
   "file_extension": ".py",
   "mimetype": "text/x-python",
   "name": "python",
   "nbconvert_exporter": "python",
   "pygments_lexer": "ipython3",
   "version": "3.9.12"
  }
 },
 "nbformat": 4,
 "nbformat_minor": 5
}
