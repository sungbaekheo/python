{
 "cells": [
  {
   "cell_type": "code",
   "execution_count": null,
   "id": "7ced1487",
   "metadata": {},
   "outputs": [],
   "source": [
    "while 명제:\n",
    "    명제가 참인 한 영원히 반복하는 코드"
   ]
  },
  {
   "cell_type": "code",
   "execution_count": 2,
   "id": "f4d5d62b",
   "metadata": {},
   "outputs": [
    {
     "name": "stdout",
     "output_type": "stream",
     "text": [
      "1\n",
      "1\n",
      "1\n"
     ]
    }
   ],
   "source": [
    "n = 0\n",
    "while n < 3:\n",
    "    print(1)\n",
    "    n = n + 1"
   ]
  },
  {
   "cell_type": "markdown",
   "id": "883372eb",
   "metadata": {},
   "source": [
    "### while 문을 사용해서 \"Hello Python\"을 10번 출력합니다."
   ]
  },
  {
   "cell_type": "code",
   "execution_count": 3,
   "id": "a274186d",
   "metadata": {},
   "outputs": [
    {
     "name": "stdout",
     "output_type": "stream",
     "text": [
      "Hello Python\n",
      "Hello Python\n",
      "Hello Python\n",
      "Hello Python\n",
      "Hello Python\n",
      "Hello Python\n",
      "Hello Python\n",
      "Hello Python\n",
      "Hello Python\n",
      "Hello Python\n"
     ]
    }
   ],
   "source": [
    "n = 0\n",
    "while n < 10:\n",
    "    print(\"Hello Python\")\n",
    "    n += 1"
   ]
  },
  {
   "cell_type": "code",
   "execution_count": 4,
   "id": "f2df9607",
   "metadata": {},
   "outputs": [
    {
     "name": "stdout",
     "output_type": "stream",
     "text": [
      "1\n"
     ]
    }
   ],
   "source": [
    "while 1 < 2:\n",
    "    print(1)\n",
    "    break"
   ]
  },
  {
   "cell_type": "code",
   "execution_count": 6,
   "id": "9c3bea76",
   "metadata": {},
   "outputs": [
    {
     "name": "stdout",
     "output_type": "stream",
     "text": [
      "1\n",
      "2\n",
      "3\n",
      "4\n",
      "5\n",
      "6\n",
      "7\n",
      "8\n",
      "9\n",
      "10\n",
      "11\n",
      "12\n",
      "13\n",
      "14\n",
      "15\n",
      "16\n",
      "17\n",
      "18\n",
      "19\n",
      "20\n",
      "21\n",
      "22\n",
      "23\n",
      "24\n",
      "25\n",
      "26\n",
      "27\n",
      "28\n",
      "29\n",
      "30\n",
      "31\n",
      "32\n",
      "33\n",
      "34\n",
      "35\n",
      "36\n",
      "37\n",
      "38\n",
      "39\n",
      "40\n",
      "41\n",
      "42\n",
      "43\n",
      "44\n",
      "45\n",
      "46\n",
      "47\n",
      "48\n",
      "49\n",
      "50\n",
      "51\n",
      "52\n",
      "53\n",
      "54\n",
      "55\n",
      "56\n",
      "57\n",
      "58\n",
      "59\n",
      "60\n",
      "61\n",
      "62\n",
      "63\n",
      "64\n",
      "65\n",
      "66\n",
      "67\n",
      "68\n",
      "69\n",
      "70\n",
      "71\n",
      "72\n",
      "73\n",
      "74\n",
      "75\n",
      "76\n",
      "77\n",
      "78\n",
      "79\n",
      "80\n",
      "81\n",
      "82\n",
      "83\n",
      "84\n",
      "85\n",
      "86\n",
      "87\n",
      "88\n",
      "89\n",
      "90\n",
      "91\n",
      "92\n",
      "93\n",
      "94\n",
      "95\n",
      "96\n",
      "97\n",
      "98\n",
      "99\n",
      "100\n"
     ]
    }
   ],
   "source": [
    "n = 1\n",
    "while True:\n",
    "    print(n)\n",
    "    if n < 100:\n",
    "        n += 1\n",
    "    else:\n",
    "        break"
   ]
  },
  {
   "cell_type": "markdown",
   "id": "05f8889f",
   "metadata": {},
   "source": [
    "- 두 개의 정수를 입력 받습니다.\n",
    "- 입력받은 두 정수의 합을 출력합니다.\n",
    "- 두 개의 정수로 0과 0을 입력받은 경우, 반복문에서 이탈합니다."
   ]
  },
  {
   "cell_type": "code",
   "execution_count": 10,
   "id": "62c05233",
   "metadata": {},
   "outputs": [
    {
     "name": "stdout",
     "output_type": "stream",
     "text": [
      "두 개의 정수를 입력하세요. 3 4\n",
      "7\n",
      "두 개의 정수를 입력하세요. 3 7\n",
      "10\n",
      "두 개의 정수를 입력하세요. 10 20\n",
      "30\n",
      "두 개의 정수를 입력하세요. 40 4\n",
      "44\n",
      "두 개의 정수를 입력하세요. 0 0\n"
     ]
    }
   ],
   "source": [
    "while True:\n",
    "    a, b = map(int, input(\"두 개의 정수를 입력하세요. \").split())\n",
    "    if a == 0 and b == 0:\n",
    "        break\n",
    "    print(a+b)"
   ]
  },
  {
   "cell_type": "markdown",
   "id": "aaeee801",
   "metadata": {},
   "source": [
    "### 다이어트 관리 프로그램\n",
    "- 목표 몸무게를 입력합니다.\n",
    "- 현재 몸무게를 입력합니다.\n",
    "- 매 주 감량한 몸무게를 입력한 뒤, 현재 몸무게가 목표 몸무게보다 적어지면, 프로그램을 종료합니다.\n",
    "- 출력 값은 \"축하합니다! __주 걸렸습니다.\" 형태입니다."
   ]
  },
  {
   "cell_type": "code",
   "execution_count": 14,
   "id": "6eade37a",
   "metadata": {},
   "outputs": [
    {
     "name": "stdout",
     "output_type": "stream",
     "text": [
      "목표 몸무게를 입력하세요.: 60\n",
      "현재 몸무게를 입력하세요.: 80\n",
      "이번 한 주간 감량한 몸무게를 입력하세요.: 5\n",
      "이번 한 주간 감량한 몸무게를 입력하세요.: 3\n",
      "이번 한 주간 감량한 몸무게를 입력하세요.: 2\n",
      "이번 한 주간 감량한 몸무게를 입력하세요.: 5\n",
      "이번 한 주간 감량한 몸무게를 입력하세요.: 3\n",
      "이번 한 주간 감량한 몸무게를 입력하세요.: 2\n",
      "축하합니다! '6'주 걸렸습니다.\n"
     ]
    }
   ],
   "source": [
    "goal = int(input(\"목표 몸무게를 입력하세요.: \"))\n",
    "now = int(input(\"현재 몸무게를 입력하세요.: \"))\n",
    "week = 0\n",
    "while now > goal:\n",
    "    week += 1\n",
    "    cut = int(input(\"이번 한 주간 감량한 몸무게를 입력하세요.: \"))\n",
    "    now -= cut\n",
    "print(f\"축하합니다! '{week}'주 걸렸습니다.\")"
   ]
  },
  {
   "cell_type": "markdown",
   "id": "95ce5756",
   "metadata": {},
   "source": [
    "range(10)"
   ]
  },
  {
   "cell_type": "code",
   "execution_count": 15,
   "id": "2c294076",
   "metadata": {},
   "outputs": [
    {
     "data": {
      "text/plain": [
       "range(0, 10)"
      ]
     },
     "execution_count": 15,
     "metadata": {},
     "output_type": "execute_result"
    }
   ],
   "source": [
    "range(10)"
   ]
  },
  {
   "cell_type": "code",
   "execution_count": 16,
   "id": "27e5f6aa",
   "metadata": {},
   "outputs": [],
   "source": [
    "r = range(10)"
   ]
  },
  {
   "cell_type": "code",
   "execution_count": 17,
   "id": "550e7a9a",
   "metadata": {},
   "outputs": [
    {
     "data": {
      "text/plain": [
       "range(0, 10)"
      ]
     },
     "execution_count": 17,
     "metadata": {},
     "output_type": "execute_result"
    }
   ],
   "source": [
    "r"
   ]
  },
  {
   "cell_type": "code",
   "execution_count": 18,
   "id": "a69e7670",
   "metadata": {},
   "outputs": [
    {
     "data": {
      "text/plain": [
       "[0, 1, 2, 3, 4, 5, 6, 7, 8, 9]"
      ]
     },
     "execution_count": 18,
     "metadata": {},
     "output_type": "execute_result"
    }
   ],
   "source": [
    "list(r)"
   ]
  },
  {
   "cell_type": "code",
   "execution_count": 19,
   "id": "96391777",
   "metadata": {},
   "outputs": [
    {
     "data": {
      "text/plain": [
       "(0, 1, 2, 3, 4, 5, 6, 7, 8, 9)"
      ]
     },
     "execution_count": 19,
     "metadata": {},
     "output_type": "execute_result"
    }
   ],
   "source": [
    "tuple(r)"
   ]
  },
  {
   "cell_type": "code",
   "execution_count": 20,
   "id": "6c835408",
   "metadata": {},
   "outputs": [
    {
     "data": {
      "text/plain": [
       "range(0, 10)"
      ]
     },
     "execution_count": 20,
     "metadata": {},
     "output_type": "execute_result"
    }
   ],
   "source": [
    "r"
   ]
  },
  {
   "cell_type": "markdown",
   "id": "cb7c5a23",
   "metadata": {},
   "source": [
    "### for문"
   ]
  },
  {
   "cell_type": "code",
   "execution_count": null,
   "id": "18a284ff",
   "metadata": {},
   "outputs": [],
   "source": [
    "for 변수 in \"문자열\"(\"리스트\" or \"튜플\")\n",
    "    print(\"hello\")"
   ]
  },
  {
   "cell_type": "code",
   "execution_count": 21,
   "id": "bd5533fe",
   "metadata": {},
   "outputs": [
    {
     "name": "stdout",
     "output_type": "stream",
     "text": [
      "햄버거\n",
      "치킨\n",
      "피자\n"
     ]
    }
   ],
   "source": [
    "list_food = [\"햄버거\", \"치킨\", \"피자\"]\n",
    "for food in list_food:\n",
    "    print(food)"
   ]
  },
  {
   "cell_type": "code",
   "execution_count": 23,
   "id": "6542f136",
   "metadata": {},
   "outputs": [
    {
     "name": "stdout",
     "output_type": "stream",
     "text": [
      "초밥은 맛있어\n",
      "짜장면은 맛있어\n",
      "짬뽕은 맛있어\n"
     ]
    }
   ],
   "source": [
    "food_list = [\"초밥\", \"짜장면\", \"짬뽕\"]\n",
    "for i in food_list:\n",
    "    print(i + \"은 맛있어\")"
   ]
  },
  {
   "cell_type": "code",
   "execution_count": 26,
   "id": "c54a909b",
   "metadata": {},
   "outputs": [
    {
     "name": "stdout",
     "output_type": "stream",
     "text": [
      "5050\n"
     ]
    }
   ],
   "source": [
    "n = 0\n",
    "for i in range(101):\n",
    "    n += i\n",
    "print(n)"
   ]
  },
  {
   "cell_type": "markdown",
   "id": "3fd569ff",
   "metadata": {},
   "source": [
    "### 1에서 100 사이의 숫자 중 3의 배수인 값들의 합을 구하시오."
   ]
  },
  {
   "cell_type": "code",
   "execution_count": 27,
   "id": "1538beec",
   "metadata": {},
   "outputs": [
    {
     "name": "stdout",
     "output_type": "stream",
     "text": [
      "1683\n"
     ]
    }
   ],
   "source": [
    "n = 0\n",
    "for i in range(101):\n",
    "    if i%3 == 0:\n",
    "        n += i\n",
    "\n",
    "print(n)"
   ]
  },
  {
   "cell_type": "markdown",
   "id": "d30995fd",
   "metadata": {},
   "source": [
    "### 1에서 100 사이의 숫자 중 소수의 합을 구하시오."
   ]
  },
  {
   "cell_type": "code",
   "execution_count": 62,
   "id": "4095bf1d",
   "metadata": {
    "scrolled": true
   },
   "outputs": [
    {
     "name": "stdout",
     "output_type": "stream",
     "text": [
      "1637\n"
     ]
    }
   ],
   "source": [
    "n = 0\n",
    "for i in range(2, 101):\n",
    "    if i == 2 or i == 3:\n",
    "        n += i\n",
    "    elif i%2 != 0 and i%3 != 0:\n",
    "        n += i\n",
    "print(n)\n",
    "            "
   ]
  },
  {
   "cell_type": "markdown",
   "id": "87a8d126",
   "metadata": {},
   "source": [
    "### 구구단 출력\n",
    "- 3단부터 19단까지 출력해주세요.\n",
    "- 출력은 \"2 x 2 = 4\" 형식입니다."
   ]
  },
  {
   "cell_type": "code",
   "execution_count": 26,
   "id": "f64eb5c0",
   "metadata": {},
   "outputs": [
    {
     "name": "stdout",
     "output_type": "stream",
     "text": [
      "3 단\n",
      "3 x 1 = 3\n",
      "3 x 2 = 6\n",
      "3 x 3 = 9\n",
      "3 x 4 = 12\n",
      "3 x 5 = 15\n",
      "3 x 6 = 18\n",
      "3 x 7 = 21\n",
      "3 x 8 = 24\n",
      "3 x 9 = 27\n",
      "3 x 10 = 30\n",
      "3 x 11 = 33\n",
      "3 x 12 = 36\n",
      "3 x 13 = 39\n",
      "3 x 14 = 42\n",
      "3 x 15 = 45\n",
      "3 x 16 = 48\n",
      "3 x 17 = 51\n",
      "3 x 18 = 54\n",
      "3 x 19 = 57\n",
      "\n",
      "4 단\n",
      "4 x 1 = 4\n",
      "4 x 2 = 8\n",
      "4 x 3 = 12\n",
      "4 x 4 = 16\n",
      "4 x 5 = 20\n",
      "4 x 6 = 24\n",
      "4 x 7 = 28\n",
      "4 x 8 = 32\n",
      "4 x 9 = 36\n",
      "4 x 10 = 40\n",
      "4 x 11 = 44\n",
      "4 x 12 = 48\n",
      "4 x 13 = 52\n",
      "4 x 14 = 56\n",
      "4 x 15 = 60\n",
      "4 x 16 = 64\n",
      "4 x 17 = 68\n",
      "4 x 18 = 72\n",
      "4 x 19 = 76\n",
      "\n",
      "5 단\n",
      "5 x 1 = 5\n",
      "5 x 2 = 10\n",
      "5 x 3 = 15\n",
      "5 x 4 = 20\n",
      "5 x 5 = 25\n",
      "5 x 6 = 30\n",
      "5 x 7 = 35\n",
      "5 x 8 = 40\n",
      "5 x 9 = 45\n",
      "5 x 10 = 50\n",
      "5 x 11 = 55\n",
      "5 x 12 = 60\n",
      "5 x 13 = 65\n",
      "5 x 14 = 70\n",
      "5 x 15 = 75\n",
      "5 x 16 = 80\n",
      "5 x 17 = 85\n",
      "5 x 18 = 90\n",
      "5 x 19 = 95\n",
      "\n",
      "6 단\n",
      "6 x 1 = 6\n",
      "6 x 2 = 12\n",
      "6 x 3 = 18\n",
      "6 x 4 = 24\n",
      "6 x 5 = 30\n",
      "6 x 6 = 36\n",
      "6 x 7 = 42\n",
      "6 x 8 = 48\n",
      "6 x 9 = 54\n",
      "6 x 10 = 60\n",
      "6 x 11 = 66\n",
      "6 x 12 = 72\n",
      "6 x 13 = 78\n",
      "6 x 14 = 84\n",
      "6 x 15 = 90\n",
      "6 x 16 = 96\n",
      "6 x 17 = 102\n",
      "6 x 18 = 108\n",
      "6 x 19 = 114\n",
      "\n",
      "7 단\n",
      "7 x 1 = 7\n",
      "7 x 2 = 14\n",
      "7 x 3 = 21\n",
      "7 x 4 = 28\n",
      "7 x 5 = 35\n",
      "7 x 6 = 42\n",
      "7 x 7 = 49\n",
      "7 x 8 = 56\n",
      "7 x 9 = 63\n",
      "7 x 10 = 70\n",
      "7 x 11 = 77\n",
      "7 x 12 = 84\n",
      "7 x 13 = 91\n",
      "7 x 14 = 98\n",
      "7 x 15 = 105\n",
      "7 x 16 = 112\n",
      "7 x 17 = 119\n",
      "7 x 18 = 126\n",
      "7 x 19 = 133\n",
      "\n",
      "8 단\n",
      "8 x 1 = 8\n",
      "8 x 2 = 16\n",
      "8 x 3 = 24\n",
      "8 x 4 = 32\n",
      "8 x 5 = 40\n",
      "8 x 6 = 48\n",
      "8 x 7 = 56\n",
      "8 x 8 = 64\n",
      "8 x 9 = 72\n",
      "8 x 10 = 80\n",
      "8 x 11 = 88\n",
      "8 x 12 = 96\n",
      "8 x 13 = 104\n",
      "8 x 14 = 112\n",
      "8 x 15 = 120\n",
      "8 x 16 = 128\n",
      "8 x 17 = 136\n",
      "8 x 18 = 144\n",
      "8 x 19 = 152\n",
      "\n",
      "9 단\n",
      "9 x 1 = 9\n",
      "9 x 2 = 18\n",
      "9 x 3 = 27\n",
      "9 x 4 = 36\n",
      "9 x 5 = 45\n",
      "9 x 6 = 54\n",
      "9 x 7 = 63\n",
      "9 x 8 = 72\n",
      "9 x 9 = 81\n",
      "9 x 10 = 90\n",
      "9 x 11 = 99\n",
      "9 x 12 = 108\n",
      "9 x 13 = 117\n",
      "9 x 14 = 126\n",
      "9 x 15 = 135\n",
      "9 x 16 = 144\n",
      "9 x 17 = 153\n",
      "9 x 18 = 162\n",
      "9 x 19 = 171\n",
      "\n",
      "10 단\n",
      "10 x 1 = 10\n",
      "10 x 2 = 20\n",
      "10 x 3 = 30\n",
      "10 x 4 = 40\n",
      "10 x 5 = 50\n",
      "10 x 6 = 60\n",
      "10 x 7 = 70\n",
      "10 x 8 = 80\n",
      "10 x 9 = 90\n",
      "10 x 10 = 100\n",
      "10 x 11 = 110\n",
      "10 x 12 = 120\n",
      "10 x 13 = 130\n",
      "10 x 14 = 140\n",
      "10 x 15 = 150\n",
      "10 x 16 = 160\n",
      "10 x 17 = 170\n",
      "10 x 18 = 180\n",
      "10 x 19 = 190\n",
      "\n",
      "11 단\n",
      "11 x 1 = 11\n",
      "11 x 2 = 22\n",
      "11 x 3 = 33\n",
      "11 x 4 = 44\n",
      "11 x 5 = 55\n",
      "11 x 6 = 66\n",
      "11 x 7 = 77\n",
      "11 x 8 = 88\n",
      "11 x 9 = 99\n",
      "11 x 10 = 110\n",
      "11 x 11 = 121\n",
      "11 x 12 = 132\n",
      "11 x 13 = 143\n",
      "11 x 14 = 154\n",
      "11 x 15 = 165\n",
      "11 x 16 = 176\n",
      "11 x 17 = 187\n",
      "11 x 18 = 198\n",
      "11 x 19 = 209\n",
      "\n",
      "12 단\n",
      "12 x 1 = 12\n",
      "12 x 2 = 24\n",
      "12 x 3 = 36\n",
      "12 x 4 = 48\n",
      "12 x 5 = 60\n",
      "12 x 6 = 72\n",
      "12 x 7 = 84\n",
      "12 x 8 = 96\n",
      "12 x 9 = 108\n",
      "12 x 10 = 120\n",
      "12 x 11 = 132\n",
      "12 x 12 = 144\n",
      "12 x 13 = 156\n",
      "12 x 14 = 168\n",
      "12 x 15 = 180\n",
      "12 x 16 = 192\n",
      "12 x 17 = 204\n",
      "12 x 18 = 216\n",
      "12 x 19 = 228\n",
      "\n",
      "13 단\n",
      "13 x 1 = 13\n",
      "13 x 2 = 26\n",
      "13 x 3 = 39\n",
      "13 x 4 = 52\n",
      "13 x 5 = 65\n",
      "13 x 6 = 78\n",
      "13 x 7 = 91\n",
      "13 x 8 = 104\n",
      "13 x 9 = 117\n",
      "13 x 10 = 130\n",
      "13 x 11 = 143\n",
      "13 x 12 = 156\n",
      "13 x 13 = 169\n",
      "13 x 14 = 182\n",
      "13 x 15 = 195\n",
      "13 x 16 = 208\n",
      "13 x 17 = 221\n",
      "13 x 18 = 234\n",
      "13 x 19 = 247\n",
      "\n",
      "14 단\n",
      "14 x 1 = 14\n",
      "14 x 2 = 28\n",
      "14 x 3 = 42\n",
      "14 x 4 = 56\n",
      "14 x 5 = 70\n",
      "14 x 6 = 84\n",
      "14 x 7 = 98\n",
      "14 x 8 = 112\n",
      "14 x 9 = 126\n",
      "14 x 10 = 140\n",
      "14 x 11 = 154\n",
      "14 x 12 = 168\n",
      "14 x 13 = 182\n",
      "14 x 14 = 196\n",
      "14 x 15 = 210\n",
      "14 x 16 = 224\n",
      "14 x 17 = 238\n",
      "14 x 18 = 252\n",
      "14 x 19 = 266\n",
      "\n",
      "15 단\n",
      "15 x 1 = 15\n",
      "15 x 2 = 30\n",
      "15 x 3 = 45\n",
      "15 x 4 = 60\n",
      "15 x 5 = 75\n",
      "15 x 6 = 90\n",
      "15 x 7 = 105\n",
      "15 x 8 = 120\n",
      "15 x 9 = 135\n",
      "15 x 10 = 150\n",
      "15 x 11 = 165\n",
      "15 x 12 = 180\n",
      "15 x 13 = 195\n",
      "15 x 14 = 210\n",
      "15 x 15 = 225\n",
      "15 x 16 = 240\n",
      "15 x 17 = 255\n",
      "15 x 18 = 270\n",
      "15 x 19 = 285\n",
      "\n",
      "16 단\n",
      "16 x 1 = 16\n",
      "16 x 2 = 32\n",
      "16 x 3 = 48\n",
      "16 x 4 = 64\n",
      "16 x 5 = 80\n",
      "16 x 6 = 96\n",
      "16 x 7 = 112\n",
      "16 x 8 = 128\n",
      "16 x 9 = 144\n",
      "16 x 10 = 160\n",
      "16 x 11 = 176\n",
      "16 x 12 = 192\n",
      "16 x 13 = 208\n",
      "16 x 14 = 224\n",
      "16 x 15 = 240\n",
      "16 x 16 = 256\n",
      "16 x 17 = 272\n",
      "16 x 18 = 288\n",
      "16 x 19 = 304\n",
      "\n",
      "17 단\n",
      "17 x 1 = 17\n",
      "17 x 2 = 34\n",
      "17 x 3 = 51\n",
      "17 x 4 = 68\n",
      "17 x 5 = 85\n",
      "17 x 6 = 102\n",
      "17 x 7 = 119\n",
      "17 x 8 = 136\n",
      "17 x 9 = 153\n",
      "17 x 10 = 170\n",
      "17 x 11 = 187\n",
      "17 x 12 = 204\n",
      "17 x 13 = 221\n",
      "17 x 14 = 238\n",
      "17 x 15 = 255\n",
      "17 x 16 = 272\n",
      "17 x 17 = 289\n",
      "17 x 18 = 306\n",
      "17 x 19 = 323\n",
      "\n",
      "18 단\n",
      "18 x 1 = 18\n",
      "18 x 2 = 36\n",
      "18 x 3 = 54\n",
      "18 x 4 = 72\n",
      "18 x 5 = 90\n",
      "18 x 6 = 108\n",
      "18 x 7 = 126\n",
      "18 x 8 = 144\n",
      "18 x 9 = 162\n",
      "18 x 10 = 180\n",
      "18 x 11 = 198\n",
      "18 x 12 = 216\n",
      "18 x 13 = 234\n",
      "18 x 14 = 252\n",
      "18 x 15 = 270\n",
      "18 x 16 = 288\n",
      "18 x 17 = 306\n",
      "18 x 18 = 324\n",
      "18 x 19 = 342\n",
      "\n",
      "19 단\n",
      "19 x 1 = 19\n",
      "19 x 2 = 38\n",
      "19 x 3 = 57\n",
      "19 x 4 = 76\n",
      "19 x 5 = 95\n",
      "19 x 6 = 114\n",
      "19 x 7 = 133\n",
      "19 x 8 = 152\n",
      "19 x 9 = 171\n",
      "19 x 10 = 190\n",
      "19 x 11 = 209\n",
      "19 x 12 = 228\n",
      "19 x 13 = 247\n",
      "19 x 14 = 266\n",
      "19 x 15 = 285\n",
      "19 x 16 = 304\n",
      "19 x 17 = 323\n",
      "19 x 18 = 342\n",
      "19 x 19 = 361\n",
      "\n"
     ]
    }
   ],
   "source": [
    "for i in range(3, 20):\n",
    "    print(i, \"단\")\n",
    "    for j in range(1, 20):\n",
    "        print(f\"{i} x {j} = {i*j}\")\n",
    "    print()\n"
   ]
  },
  {
   "cell_type": "markdown",
   "id": "65fc548b",
   "metadata": {},
   "source": [
    "### 업다운 게임\n",
    "- 컴퓨터는 1부터 100 사이의 임의의 자연수를 생각합니다.\n",
    "- 플레이어는 1부터 100 사이의 임의의 자연수를 input으로 입력합니다.\n",
    "- 컴퓨터가 생각한 수가 플레이어가 입력한 수보다 크다면 Up, 작다면 Down을 출력합니다.\n",
    "- 플레이어가 입력한 수가 컴퓨터가 생각한 수와 이치하면 몇번만에 맞췄는지 출력하고 프로그램을 종료합니다."
   ]
  },
  {
   "cell_type": "code",
   "execution_count": 63,
   "id": "fb841857",
   "metadata": {},
   "outputs": [
    {
     "name": "stdout",
     "output_type": "stream",
     "text": [
      "1부터 100 사이의 숫자 중 아무 숫자나 입력하세요.: 50\n",
      "Down\n",
      "\n",
      "1부터 100 사이의 숫자 중 아무 숫자나 입력하세요.: 30\n",
      "Down\n",
      "\n",
      "1부터 100 사이의 숫자 중 아무 숫자나 입력하세요.: 10\n",
      "Up\n",
      "\n",
      "1부터 100 사이의 숫자 중 아무 숫자나 입력하세요.: 20\n",
      "Up\n",
      "\n",
      "1부터 100 사이의 숫자 중 아무 숫자나 입력하세요.: 24\n",
      "Down\n",
      "\n",
      "1부터 100 사이의 숫자 중 아무 숫자나 입력하세요.: 22\n",
      "Up\n",
      "\n",
      "1부터 100 사이의 숫자 중 아무 숫자나 입력하세요.: 23\n",
      "7번째 만에 맞췄습니다!!!\n"
     ]
    }
   ],
   "source": [
    "import random\n",
    "computer = random.randint(1, 100)\n",
    "count = 1\n",
    "while True:\n",
    "    player = int(input(\"1부터 100 사이의 숫자 중 아무 숫자나 입력하세요.: \"))\n",
    "    if player == computer:\n",
    "        print(f\"{count}번째 만에 맞췄습니다!!!\")\n",
    "        break\n",
    "    elif player >= computer:\n",
    "        print(\"Down\\n\")\n",
    "    else:\n",
    "        print(\"Up\\n\")\n",
    "    count += 1"
   ]
  },
  {
   "cell_type": "code",
   "execution_count": null,
   "id": "82f32fd0",
   "metadata": {},
   "outputs": [],
   "source": []
  }
 ],
 "metadata": {
  "kernelspec": {
   "display_name": "Python 3 (ipykernel)",
   "language": "python",
   "name": "python3"
  },
  "language_info": {
   "codemirror_mode": {
    "name": "ipython",
    "version": 3
   },
   "file_extension": ".py",
   "mimetype": "text/x-python",
   "name": "python",
   "nbconvert_exporter": "python",
   "pygments_lexer": "ipython3",
   "version": "3.9.12"
  }
 },
 "nbformat": 4,
 "nbformat_minor": 5
}
