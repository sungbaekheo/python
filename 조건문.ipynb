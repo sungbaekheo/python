{
 "cells": [
  {
   "cell_type": "code",
   "execution_count": 1,
   "id": "5bb68820",
   "metadata": {},
   "outputs": [
    {
     "name": "stdout",
     "output_type": "stream",
     "text": [
      "내가 가진 돈: 5000\n",
      "택시 타고 가자!\n",
      "와 집에 도착했다!\n"
     ]
    }
   ],
   "source": [
    "money = int(input(\"내가 가진 돈: \"))\n",
    "\n",
    "if money >= 4000:\n",
    "    print(\"택시 타고 가자!\")\n",
    "else:\n",
    "    print(\"버스 타고 가자ㅠ\")\n",
    "\n",
    "print(\"와 집에 도착했다!\")"
   ]
  },
  {
   "cell_type": "markdown",
   "id": "7ff4a025",
   "metadata": {},
   "source": [
    "- input함수로 정수를 받습니다.\n",
    "- 만약 주어진 수가 3의 배수라면 \"3의 배수입니다.\"를 출력합니다.\n",
    "- 만약 주어진 수가 3읩 배수가 아니라면 \"3의 배수가 아닙니다.\"를 출력합니다."
   ]
  },
  {
   "cell_type": "code",
   "execution_count": 4,
   "id": "e2be71f5",
   "metadata": {},
   "outputs": [
    {
     "name": "stdout",
     "output_type": "stream",
     "text": [
      "정수를 입력하세요.: 9\n",
      "3의 배수입니다.\n"
     ]
    }
   ],
   "source": [
    "num = int(input(\"정수를 입력하세요.: \"))\n",
    "\n",
    "if num%3 == 0:\n",
    "    print(\"3의 배수입니다.\")\n",
    "else:\n",
    "    print(\"3의 배수가 아닙니다.\")"
   ]
  },
  {
   "cell_type": "markdown",
   "id": "92faa37a",
   "metadata": {},
   "source": [
    "### 추석 선물 세트 구매\n",
    "- 추석 선물 세트는 1개에 1만원입니다.\n",
    "- 추석 선물 세트를 11개 이상 사면, 11개재부터 10% 할인됩니다.\n",
    "- 추석 선물 세트를 몇 개 샀는지 input함수로 받아, 총 얼마인지를 출력해주세요."
   ]
  },
  {
   "cell_type": "code",
   "execution_count": 8,
   "id": "d0cbefdc",
   "metadata": {},
   "outputs": [
    {
     "name": "stdout",
     "output_type": "stream",
     "text": [
      "구매한 추석 선물 세트의 개수: 20\n",
      "총 선물 구매 금액은 190000원입니다.\n"
     ]
    }
   ],
   "source": [
    "gift_num = int(input(\"구매한 추석 선물 세트의 개수: \"))\n",
    "\n",
    "price = 10000\n",
    "\n",
    "if gift_num <= 10:\n",
    "    total_price = gift_num * price\n",
    "else:\n",
    "    total_price = 10*price + (gift_num-10)*(price*0.9)\n",
    "\n",
    "print(\"총 선물 구매 금액은 {}원입니다.\".format(int(total_price)))"
   ]
  },
  {
   "cell_type": "code",
   "execution_count": null,
   "id": "3460cb76",
   "metadata": {},
   "outputs": [],
   "source": []
  }
 ],
 "metadata": {
  "kernelspec": {
   "display_name": "Python 3 (ipykernel)",
   "language": "python",
   "name": "python3"
  },
  "language_info": {
   "codemirror_mode": {
    "name": "ipython",
    "version": 3
   },
   "file_extension": ".py",
   "mimetype": "text/x-python",
   "name": "python",
   "nbconvert_exporter": "python",
   "pygments_lexer": "ipython3",
   "version": "3.9.12"
  }
 },
 "nbformat": 4,
 "nbformat_minor": 5
}
