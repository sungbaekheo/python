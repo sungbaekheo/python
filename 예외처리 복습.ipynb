{
 "cells": [
  {
   "cell_type": "code",
   "execution_count": 10,
   "id": "9708465c",
   "metadata": {},
   "outputs": [
    {
     "name": "stdout",
     "output_type": "stream",
     "text": [
      "Counter({'data': 4, 'the': 4, 'is': 3, 'world': 2, 'of': 2, 'hello': 1, 'my': 1, 'name': 1, 'Sungbaek': 1, 'i': 1, 'wanna': 1, 'be': 1, 'a': 1, 'scientist': 1, 'good': 1, 'source': 1, 'to': 1, 'analyze': 1, 'Because': 1, 'composed': 1, 'number': 1, 'we': 1, 'must': 1, 'manage': 1, 'well': 1})\n",
      "['data', 'the', 'is', 'world', 'of', 'hello', 'my', 'name', 'Sungbaek', 'i', 'wanna', 'be', 'a', 'scientist', 'good', 'source', 'to', 'analyze', 'Because', 'composed', 'number', 'we', 'must', 'manage', 'well']\n"
     ]
    }
   ],
   "source": [
    "from collections import Counter\n",
    "\n",
    "speach = \"hello my name is Sungbaek. i wanna be a data scientist. data is good source to analyze the world. Because the world is composed of the number of data, we must manage the data well.\"\n",
    "speach = speach.replace(\".\", \"\")\n",
    "speach = speach.replace(\",\", \"\")\n",
    "lst = speach.split()\n",
    "dic = Counter(lst)\n",
    "print(dic)\n",
    "importance = sorted(dic, key = lambda x : dic[x], reverse = True)\n",
    "print(importance)"
   ]
  },
  {
   "cell_type": "code",
   "execution_count": 7,
   "id": "a6898059",
   "metadata": {},
   "outputs": [
    {
     "name": "stdout",
     "output_type": "stream",
     "text": [
      "0.14285714285714285\n",
      "0.16666666666666666\n",
      "0.2\n",
      "0.25\n",
      "0.3333333333333333\n",
      "0.5\n",
      "1.0\n",
      "에러가 났습니다.\n",
      "-1.0\n",
      "-0.5\n"
     ]
    }
   ],
   "source": [
    "for i in range(10):\n",
    "    try:\n",
    "        print(1/(7-i))\n",
    "    except ZeroDivisionError:\n",
    "        print(\"에러가 났습니다.\")"
   ]
  },
  {
   "cell_type": "code",
   "execution_count": null,
   "id": "826697d9",
   "metadata": {},
   "outputs": [],
   "source": []
  }
 ],
 "metadata": {
  "kernelspec": {
   "display_name": "Python 3 (ipykernel)",
   "language": "python",
   "name": "python3"
  },
  "language_info": {
   "codemirror_mode": {
    "name": "ipython",
    "version": 3
   },
   "file_extension": ".py",
   "mimetype": "text/x-python",
   "name": "python",
   "nbconvert_exporter": "python",
   "pygments_lexer": "ipython3",
   "version": "3.9.12"
  }
 },
 "nbformat": 4,
 "nbformat_minor": 5
}
