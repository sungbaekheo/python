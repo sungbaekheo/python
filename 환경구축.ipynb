{
 "cells": [
  {
   "cell_type": "markdown",
   "id": "6e01a804",
   "metadata": {},
   "source": [
    "## 환경 구축을 진행하는 중입니다.\n",
    "\n",
    "- Bulleted List\n",
    "    - Bulleted List\n",
    "\n",
    "1. Numbered List\n",
    "    1. Numbered List\n",
    "        1. Numberd List\n",
    "        \n",
    "**Emphasis**\n",
    "\n",
    "*italic*\n"
   ]
  },
  {
   "cell_type": "markdown",
   "id": "4d6bf0c8",
   "metadata": {},
   "source": [
    "위로 셀 만들기 단축키 \"a\""
   ]
  },
  {
   "cell_type": "code",
   "execution_count": 5,
   "id": "ca4bee81",
   "metadata": {},
   "outputs": [
    {
     "data": {
      "text/plain": [
       "2"
      ]
     },
     "execution_count": 5,
     "metadata": {},
     "output_type": "execute_result"
    }
   ],
   "source": [
    "# 이 코드는 1+1을 출력하는 코드입니다.\n",
    "1+1"
   ]
  },
  {
   "cell_type": "markdown",
   "id": "7500dee9",
   "metadata": {},
   "source": [
    "아래로 셀 만들기 단축키 \"b\""
   ]
  },
  {
   "cell_type": "code",
   "execution_count": null,
   "id": "8f67053d",
   "metadata": {},
   "outputs": [],
   "source": []
  },
  {
   "cell_type": "markdown",
   "id": "f3661579",
   "metadata": {},
   "source": [
    "셀 삭제하기 단축키 \"x\" \"d\" * 2"
   ]
  },
  {
   "cell_type": "markdown",
   "id": "a13948aa",
   "metadata": {},
   "source": [
    "실수로 삭제한 셀 복구하기 단축키 \"z\""
   ]
  },
  {
   "cell_type": "code",
   "execution_count": 6,
   "id": "90a040a8",
   "metadata": {},
   "outputs": [],
   "source": [
    "from IPython.display import Image"
   ]
  },
  {
   "cell_type": "code",
   "execution_count": 9,
   "id": "77c729a7",
   "metadata": {},
   "outputs": [
    {
     "data": {
      "text/html": [
       "<img src=\"https://pds.joongang.co.kr/news/component/htmlphoto_mmdata/202207/05/d20deee1-8971-4c06-9408-44a108fdc149.jpg\" width=\"300\" height=\"200\"/>"
      ],
      "text/plain": [
       "<IPython.core.display.Image object>"
      ]
     },
     "execution_count": 9,
     "metadata": {},
     "output_type": "execute_result"
    }
   ],
   "source": [
    "Image(url=\"https://pds.joongang.co.kr/news/component/htmlphoto_mmdata/202207/05/d20deee1-8971-4c06-9408-44a108fdc149.jpg\", width  = 300, height = 200)"
   ]
  },
  {
   "cell_type": "code",
   "execution_count": 10,
   "id": "0b476b97",
   "metadata": {},
   "outputs": [],
   "source": [
    "from IPython.lib.display import YouTubeVideo"
   ]
  },
  {
   "cell_type": "code",
   "execution_count": 13,
   "id": "eddb10cb",
   "metadata": {},
   "outputs": [
    {
     "data": {
      "image/jpeg": "[encoded data removed]",
      "text/html": [
       "\n",
       "        <iframe\n",
       "            width=\"720\"\n",
       "            height=\"480\"\n",
       "            src=\"https://www.youtube.com/embed/I5cq54MFQCo\"\n",
       "            frameborder=\"0\"\n",
       "            allowfullscreen\n",
       "            \n",
       "        ></iframe>\n",
       "        "
      ],
      "text/plain": [
       "<IPython.lib.display.YouTubeVideo at 0x18c857c7a60>"
      ]
     },
     "execution_count": 13,
     "metadata": {},
     "output_type": "execute_result"
    }
   ],
   "source": [
    "YouTubeVideo(\"I5cq54MFQCo\", width = 720, height = 480)"
   ]
  },
  {
   "cell_type": "code",
   "execution_count": 14,
   "id": "bd66ce6e",
   "metadata": {},
   "outputs": [],
   "source": [
    "import antigravity"
   ]
  },
  {
   "cell_type": "code",
   "execution_count": 15,
   "id": "5028e339",
   "metadata": {},
   "outputs": [],
   "source": [
    "num = 3"
   ]
  },
  {
   "cell_type": "code",
   "execution_count": 16,
   "id": "ce5146b9",
   "metadata": {},
   "outputs": [
    {
     "data": {
      "text/plain": [
       "3"
      ]
     },
     "execution_count": 16,
     "metadata": {},
     "output_type": "execute_result"
    }
   ],
   "source": [
    "num"
   ]
  },
  {
   "cell_type": "code",
   "execution_count": 17,
   "id": "65e2750c",
   "metadata": {},
   "outputs": [
    {
     "data": {
      "text/plain": [
       "8"
      ]
     },
     "execution_count": 17,
     "metadata": {},
     "output_type": "execute_result"
    }
   ],
   "source": [
    "num + 5"
   ]
  },
  {
   "cell_type": "code",
   "execution_count": 18,
   "id": "8aa4bd83",
   "metadata": {},
   "outputs": [],
   "source": [
    "num = 8"
   ]
  },
  {
   "cell_type": "code",
   "execution_count": 19,
   "id": "a032883b",
   "metadata": {},
   "outputs": [
    {
     "data": {
      "text/plain": [
       "8"
      ]
     },
     "execution_count": 19,
     "metadata": {},
     "output_type": "execute_result"
    }
   ],
   "source": [
    "num"
   ]
  },
  {
   "cell_type": "code",
   "execution_count": 20,
   "id": "ccf65f7d",
   "metadata": {},
   "outputs": [
    {
     "data": {
      "text/plain": [
       "float"
      ]
     },
     "execution_count": 20,
     "metadata": {},
     "output_type": "execute_result"
    }
   ],
   "source": [
    "num = 3.14\n",
    "type(num)"
   ]
  },
  {
   "cell_type": "code",
   "execution_count": 21,
   "id": "3879732d",
   "metadata": {},
   "outputs": [],
   "source": [
    "num = \"num\""
   ]
  },
  {
   "cell_type": "code",
   "execution_count": 22,
   "id": "5179a532",
   "metadata": {},
   "outputs": [
    {
     "data": {
      "text/plain": [
       "str"
      ]
     },
     "execution_count": 22,
     "metadata": {},
     "output_type": "execute_result"
    }
   ],
   "source": [
    "type(num)"
   ]
  },
  {
   "cell_type": "code",
   "execution_count": 23,
   "id": "f71fe81d",
   "metadata": {},
   "outputs": [
    {
     "data": {
      "text/plain": [
       "str"
      ]
     },
     "execution_count": 23,
     "metadata": {},
     "output_type": "execute_result"
    }
   ],
   "source": [
    "type(\"a\")"
   ]
  },
  {
   "cell_type": "code",
   "execution_count": 24,
   "id": "16172a24",
   "metadata": {},
   "outputs": [
    {
     "ename": "SyntaxError",
     "evalue": "invalid syntax (1549114973.py, line 1)",
     "output_type": "error",
     "traceback": [
      "\u001b[1;36m  Input \u001b[1;32mIn [24]\u001b[1;36m\u001b[0m\n\u001b[1;33m    for = 10\u001b[0m\n\u001b[1;37m        ^\u001b[0m\n\u001b[1;31mSyntaxError\u001b[0m\u001b[1;31m:\u001b[0m invalid syntax\n"
     ]
    }
   ],
   "source": [
    "for = 10"
   ]
  },
  {
   "cell_type": "code",
   "execution_count": 25,
   "id": "def76f9b",
   "metadata": {},
   "outputs": [
    {
     "ename": "SyntaxError",
     "evalue": "invalid syntax (182722112.py, line 1)",
     "output_type": "error",
     "traceback": [
      "\u001b[1;36m  Input \u001b[1;32mIn [25]\u001b[1;36m\u001b[0m\n\u001b[1;33m    if = 10\u001b[0m\n\u001b[1;37m       ^\u001b[0m\n\u001b[1;31mSyntaxError\u001b[0m\u001b[1;31m:\u001b[0m invalid syntax\n"
     ]
    }
   ],
   "source": [
    "if = 10"
   ]
  },
  {
   "cell_type": "code",
   "execution_count": 26,
   "id": "02978a45",
   "metadata": {},
   "outputs": [
    {
     "data": {
      "text/plain": [
       "int"
      ]
     },
     "execution_count": 26,
     "metadata": {},
     "output_type": "execute_result"
    }
   ],
   "source": [
    "type(10)"
   ]
  },
  {
   "cell_type": "markdown",
   "id": "d4b382c7",
   "metadata": {},
   "source": [
    "### 변수 a에 10을 대입하고 , 변수 b에 15를 대입한 뒤, 변수 c에 a+b를  할당해주세요"
   ]
  },
  {
   "cell_type": "code",
   "execution_count": 27,
   "id": "f011b6d5",
   "metadata": {},
   "outputs": [],
   "source": [
    "a = 10\n",
    "b = 15\n",
    "c = a + b"
   ]
  },
  {
   "cell_type": "code",
   "execution_count": 28,
   "id": "ebdf399d",
   "metadata": {},
   "outputs": [
    {
     "name": "stdout",
     "output_type": "stream",
     "text": [
      "10\n",
      "15\n",
      "25\n"
     ]
    }
   ],
   "source": [
    "print(a, b, c, sep = \"\\n\")"
   ]
  },
  {
   "cell_type": "code",
   "execution_count": 29,
   "id": "493280fc",
   "metadata": {},
   "outputs": [
    {
     "name": "stdout",
     "output_type": "stream",
     "text": [
      "10\n",
      "15\n",
      "25\n"
     ]
    }
   ],
   "source": [
    "a, b = 10, 15\n",
    "c = a + b\n",
    "print(a, b, c, sep = \"\\n\")"
   ]
  },
  {
   "cell_type": "markdown",
   "id": "932f767b",
   "metadata": {},
   "source": [
    "#### 변수 str1와 str2에 모두 hello python을 할당해주세요."
   ]
  },
  {
   "cell_type": "code",
   "execution_count": 30,
   "id": "6bd88226",
   "metadata": {},
   "outputs": [],
   "source": [
    "str1 = \"hello python\"\n",
    "str2 = str1"
   ]
  },
  {
   "cell_type": "code",
   "execution_count": 31,
   "id": "0fa6a07f",
   "metadata": {},
   "outputs": [
    {
     "name": "stdout",
     "output_type": "stream",
     "text": [
      "hello python\n",
      "hello python\n"
     ]
    }
   ],
   "source": [
    "print(str1, str2, sep = \"\\n\")"
   ]
  },
  {
   "cell_type": "code",
   "execution_count": 32,
   "id": "b4f761f5",
   "metadata": {},
   "outputs": [
    {
     "name": "stdout",
     "output_type": "stream",
     "text": [
      "hello python\n",
      "hello python\n"
     ]
    }
   ],
   "source": [
    "st1 = str2 = \"hello python\"\n",
    "print(str1, str2, sep = \"\\n\")"
   ]
  },
  {
   "cell_type": "code",
   "execution_count": 37,
   "id": "f143d4ae",
   "metadata": {},
   "outputs": [
    {
     "name": "stdout",
     "output_type": "stream",
     "text": [
      "철수는 \"6시에 집에 간다\"고 했다.\n"
     ]
    }
   ],
   "source": [
    "print(\"철수는 \\\"6시에 집에 간다\\\"고 했다.\")"
   ]
  },
  {
   "cell_type": "markdown",
   "id": "d9d65624",
   "metadata": {},
   "source": [
    "### Indexing and Slicing"
   ]
  },
  {
   "cell_type": "code",
   "execution_count": 39,
   "id": "607179cf",
   "metadata": {},
   "outputs": [
    {
     "data": {
      "text/plain": [
       "'h'"
      ]
     },
     "execution_count": 39,
     "metadata": {},
     "output_type": "execute_result"
    }
   ],
   "source": [
    "str1[0]"
   ]
  },
  {
   "cell_type": "code",
   "execution_count": 40,
   "id": "43c1c6c3",
   "metadata": {},
   "outputs": [],
   "source": [
    "name = \"My name is Sungbaek\""
   ]
  },
  {
   "cell_type": "code",
   "execution_count": 41,
   "id": "1fcd3c1a",
   "metadata": {},
   "outputs": [
    {
     "data": {
      "text/plain": [
       "'Sungbaek'"
      ]
     },
     "execution_count": 41,
     "metadata": {},
     "output_type": "execute_result"
    }
   ],
   "source": [
    "name[name.find(\"S\"):]"
   ]
  },
  {
   "cell_type": "code",
   "execution_count": 42,
   "id": "40dd177d",
   "metadata": {},
   "outputs": [
    {
     "data": {
      "text/plain": [
       "'name'"
      ]
     },
     "execution_count": 42,
     "metadata": {},
     "output_type": "execute_result"
    }
   ],
   "source": [
    "name[3:7]"
   ]
  },
  {
   "cell_type": "code",
   "execution_count": 45,
   "id": "3f31648a",
   "metadata": {},
   "outputs": [
    {
     "data": {
      "text/plain": [
       "'is'"
      ]
     },
     "execution_count": 45,
     "metadata": {},
     "output_type": "execute_result"
    }
   ],
   "source": [
    "name[-11:-9]"
   ]
  },
  {
   "cell_type": "code",
   "execution_count": 46,
   "id": "84077ed8",
   "metadata": {},
   "outputs": [
    {
     "data": {
      "text/plain": [
       "'ek'"
      ]
     },
     "execution_count": 46,
     "metadata": {},
     "output_type": "execute_result"
    }
   ],
   "source": [
    "name[-2:]"
   ]
  },
  {
   "cell_type": "code",
   "execution_count": 47,
   "id": "9319a950",
   "metadata": {},
   "outputs": [
    {
     "data": {
      "text/plain": [
       "'My name is Sungbae'"
      ]
     },
     "execution_count": 47,
     "metadata": {},
     "output_type": "execute_result"
    }
   ],
   "source": [
    "name[:-1]"
   ]
  },
  {
   "cell_type": "code",
   "execution_count": 48,
   "id": "22b22034",
   "metadata": {},
   "outputs": [
    {
     "data": {
      "text/plain": [
       "'k'"
      ]
     },
     "execution_count": 48,
     "metadata": {},
     "output_type": "execute_result"
    }
   ],
   "source": [
    "name[-1:]"
   ]
  },
  {
   "cell_type": "code",
   "execution_count": 49,
   "id": "3932fcac",
   "metadata": {},
   "outputs": [
    {
     "data": {
      "text/plain": [
       "''"
      ]
     },
     "execution_count": 49,
     "metadata": {},
     "output_type": "execute_result"
    }
   ],
   "source": [
    "name[-1:0]"
   ]
  },
  {
   "cell_type": "markdown",
   "id": "0b57a4fc",
   "metadata": {},
   "source": [
    "### 문제"
   ]
  },
  {
   "cell_type": "markdown",
   "id": "4db8805f",
   "metadata": {},
   "source": [
    "-날씨 정보를 받습니다.\n",
    "\n",
    "1. 20220809Sunny\n",
    "2. 20220810Cloudy\n",
    "3. 20220811Fog\n",
    "\n",
    "- 이 정보들을 연도 / 월 / 일 / 날씨 변수로 쪼개서 저장하고 싶습니다.\n",
    "- 어떤 날시 정보다 오든지, 연 / 월 / 일 / 날씨를 변함없이 지칭하는 슬라이싱 코드를 짜봅시다."
   ]
  },
  {
   "cell_type": "code",
   "execution_count": 52,
   "id": "9282e3df",
   "metadata": {},
   "outputs": [
    {
     "name": "stdout",
     "output_type": "stream",
     "text": [
      "2022 / 08 / 09 / Sunny\n"
     ]
    }
   ],
   "source": [
    "weather_info = \"20220809Sunny\"\n",
    "\"\"\"\n",
    "weather_info = \"20220810Cloudy\"\n",
    "weather_info = \"20220811Fog\"\n",
    "\"\"\"\n",
    "\n",
    "year = weather_info[:4]\n",
    "month = weather_info[4:6]\n",
    "day = weather_info[6:8]\n",
    "weather = weather_info[8:]\n",
    "\n",
    "print(year, month, day, weather, sep = \" / \")"
   ]
  },
  {
   "cell_type": "code",
   "execution_count": null,
   "id": "3f799339",
   "metadata": {},
   "outputs": [],
   "source": []
  }
 ],
 "metadata": {
  "kernelspec": {
   "display_name": "Python 3 (ipykernel)",
   "language": "python",
   "name": "python3"
  },
  "language_info": {
   "codemirror_mode": {
    "name": "ipython",
    "version": 3
   },
   "file_extension": ".py",
   "mimetype": "text/x-python",
   "name": "python",
   "nbconvert_exporter": "python",
   "pygments_lexer": "ipython3",
   "version": "3.9.12"
  }
 },
 "nbformat": 4,
 "nbformat_minor": 5
}
