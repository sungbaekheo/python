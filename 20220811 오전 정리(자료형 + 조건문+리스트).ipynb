{
 "cells": [
  {
   "cell_type": "markdown",
   "id": "37e58206",
   "metadata": {},
   "source": [
    "### 변수에 할당될 수 있는 자료형\n",
    "- 정수형\n",
    "- 실수형\n",
    "- 문자형\n",
    "- 논리형"
   ]
  },
  {
   "cell_type": "code",
   "execution_count": 1,
   "id": "b565a3d9",
   "metadata": {},
   "outputs": [
    {
     "data": {
      "text/plain": [
       "int"
      ]
     },
     "execution_count": 1,
     "metadata": {},
     "output_type": "execute_result"
    }
   ],
   "source": [
    "jeongsu = 1\n",
    "type(jeongsu)"
   ]
  },
  {
   "cell_type": "code",
   "execution_count": 2,
   "id": "c3a2be7f",
   "metadata": {},
   "outputs": [
    {
     "data": {
      "text/plain": [
       "float"
      ]
     },
     "execution_count": 2,
     "metadata": {},
     "output_type": "execute_result"
    }
   ],
   "source": [
    "silsu = 1.2\n",
    "type(silsu)"
   ]
  },
  {
   "cell_type": "code",
   "execution_count": 3,
   "id": "86bece79",
   "metadata": {},
   "outputs": [
    {
     "data": {
      "text/plain": [
       "2"
      ]
     },
     "execution_count": 3,
     "metadata": {},
     "output_type": "execute_result"
    }
   ],
   "source": [
    "1 + 1"
   ]
  },
  {
   "cell_type": "code",
   "execution_count": 4,
   "id": "f249f90f",
   "metadata": {},
   "outputs": [
    {
     "data": {
      "text/plain": [
       "0"
      ]
     },
     "execution_count": 4,
     "metadata": {},
     "output_type": "execute_result"
    }
   ],
   "source": [
    "1 - 1"
   ]
  },
  {
   "cell_type": "code",
   "execution_count": 5,
   "id": "2f35032b",
   "metadata": {},
   "outputs": [
    {
     "data": {
      "text/plain": [
       "6"
      ]
     },
     "execution_count": 5,
     "metadata": {},
     "output_type": "execute_result"
    }
   ],
   "source": [
    "2 * 3"
   ]
  },
  {
   "cell_type": "code",
   "execution_count": 6,
   "id": "b771c490",
   "metadata": {},
   "outputs": [
    {
     "data": {
      "text/plain": [
       "8"
      ]
     },
     "execution_count": 6,
     "metadata": {},
     "output_type": "execute_result"
    }
   ],
   "source": [
    "2 ** 3"
   ]
  },
  {
   "cell_type": "code",
   "execution_count": 7,
   "id": "9f949fb5",
   "metadata": {},
   "outputs": [
    {
     "data": {
      "text/plain": [
       "2"
      ]
     },
     "execution_count": 7,
     "metadata": {},
     "output_type": "execute_result"
    }
   ],
   "source": [
    "7//3"
   ]
  },
  {
   "cell_type": "code",
   "execution_count": 8,
   "id": "91de4fe5",
   "metadata": {},
   "outputs": [
    {
     "data": {
      "text/plain": [
       "1"
      ]
     },
     "execution_count": 8,
     "metadata": {},
     "output_type": "execute_result"
    }
   ],
   "source": [
    "7%3"
   ]
  },
  {
   "cell_type": "markdown",
   "id": "04dc9293",
   "metadata": {},
   "source": [
    "## 문자"
   ]
  },
  {
   "cell_type": "code",
   "execution_count": 9,
   "id": "e7057afb",
   "metadata": {},
   "outputs": [
    {
     "data": {
      "text/plain": [
       "'banana'"
      ]
     },
     "execution_count": 9,
     "metadata": {},
     "output_type": "execute_result"
    }
   ],
   "source": [
    "\"banana\""
   ]
  },
  {
   "cell_type": "code",
   "execution_count": 10,
   "id": "b515977f",
   "metadata": {},
   "outputs": [],
   "source": [
    "b = \"banana\""
   ]
  },
  {
   "cell_type": "code",
   "execution_count": 11,
   "id": "567be9fd",
   "metadata": {},
   "outputs": [
    {
     "data": {
      "text/plain": [
       "'banana'"
      ]
     },
     "execution_count": 11,
     "metadata": {},
     "output_type": "execute_result"
    }
   ],
   "source": [
    "b"
   ]
  },
  {
   "cell_type": "code",
   "execution_count": 12,
   "id": "481b7afe",
   "metadata": {},
   "outputs": [
    {
     "data": {
      "text/plain": [
       "str"
      ]
     },
     "execution_count": 12,
     "metadata": {},
     "output_type": "execute_result"
    }
   ],
   "source": [
    "type(b)"
   ]
  },
  {
   "cell_type": "code",
   "execution_count": 13,
   "id": "83c1e54d",
   "metadata": {},
   "outputs": [
    {
     "data": {
      "text/plain": [
       "'BNN'"
      ]
     },
     "execution_count": 13,
     "metadata": {},
     "output_type": "execute_result"
    }
   ],
   "source": [
    "\"BaNaNa\"[::2]"
   ]
  },
  {
   "cell_type": "code",
   "execution_count": 15,
   "id": "fd6a562f",
   "metadata": {},
   "outputs": [],
   "source": [
    "name = \"my name is stephany\""
   ]
  },
  {
   "cell_type": "code",
   "execution_count": 16,
   "id": "83029aae",
   "metadata": {},
   "outputs": [],
   "source": [
    "idx = name.find(\"name\")"
   ]
  },
  {
   "cell_type": "code",
   "execution_count": 18,
   "id": "f87c1625",
   "metadata": {},
   "outputs": [
    {
     "data": {
      "text/plain": [
       "'name'"
      ]
     },
     "execution_count": 18,
     "metadata": {},
     "output_type": "execute_result"
    }
   ],
   "source": [
    "name[idx:idx + len(\"name\")]"
   ]
  },
  {
   "cell_type": "code",
   "execution_count": 31,
   "id": "ff48648f",
   "metadata": {},
   "outputs": [
    {
     "name": "stdout",
     "output_type": "stream",
     "text": [
      "오늘 점심은 초밥입니다.\n",
      "오늘 점심은 짜장면입니다.\n",
      "오늘 점심은 국밥입니다.\n"
     ]
    }
   ],
   "source": [
    "menu1 = \"초밥\"\n",
    "menu2 = \"짜장면\"\n",
    "menu3 = \"국밥\"\n",
    "\n",
    "print(f\"오늘 점심은 {menu1}입니다.\")\n",
    "print(\"오늘 점심은 %s입니다.\" %menu2)\n",
    "print(\"오늘 점심은 {}입니다.\".format(menu3))"
   ]
  },
  {
   "cell_type": "code",
   "execution_count": 32,
   "id": "c947d8e1",
   "metadata": {},
   "outputs": [],
   "source": [
    "song = \"tell me tell me tetetete tell me\""
   ]
  },
  {
   "cell_type": "code",
   "execution_count": 33,
   "id": "14619e46",
   "metadata": {},
   "outputs": [
    {
     "data": {
      "text/plain": [
       "3"
      ]
     },
     "execution_count": 33,
     "metadata": {},
     "output_type": "execute_result"
    }
   ],
   "source": [
    "song.count(\"tell me\")"
   ]
  },
  {
   "cell_type": "code",
   "execution_count": 35,
   "id": "7fa1e70b",
   "metadata": {},
   "outputs": [
    {
     "name": "stdout",
     "output_type": "stream",
     "text": [
      "TELL ME TELL ME TETETETE TELL ME\n",
      "tell me tell me tetetete tell me\n",
      "Tell Me Tell Me Tetetete Tell Me\n"
     ]
    }
   ],
   "source": [
    "print(song.upper())\n",
    "print(song.lower())\n",
    "print(song.title())"
   ]
  },
  {
   "cell_type": "code",
   "execution_count": 37,
   "id": "94e99360",
   "metadata": {},
   "outputs": [
    {
     "data": {
      "text/plain": [
       "['tell', 'me', 'tell', 'me', 'tetetete', 'tell', 'me']"
      ]
     },
     "execution_count": 37,
     "metadata": {},
     "output_type": "execute_result"
    }
   ],
   "source": [
    "song.split()"
   ]
  },
  {
   "cell_type": "code",
   "execution_count": 38,
   "id": "179e8488",
   "metadata": {},
   "outputs": [
    {
     "data": {
      "text/plain": [
       "'tell him tell him tetetete tell him'"
      ]
     },
     "execution_count": 38,
     "metadata": {},
     "output_type": "execute_result"
    }
   ],
   "source": [
    "song.replace(\"me\", \"him\")"
   ]
  },
  {
   "cell_type": "code",
   "execution_count": 39,
   "id": "16c1b930",
   "metadata": {},
   "outputs": [
    {
     "data": {
      "text/plain": [
       "'안녕하세요'"
      ]
     },
     "execution_count": 39,
     "metadata": {},
     "output_type": "execute_result"
    }
   ],
   "source": [
    "\"안녕\" + \"하세요\""
   ]
  },
  {
   "cell_type": "code",
   "execution_count": 40,
   "id": "7c916ca3",
   "metadata": {},
   "outputs": [
    {
     "data": {
      "text/plain": [
       "'안녕안녕안녕안녕안녕안녕안녕안녕안녕안녕안녕안녕안녕안녕안녕안녕안녕안녕안녕안녕안녕안녕안녕안녕안녕안녕안녕안녕안녕안녕안녕안녕안녕안녕안녕안녕안녕안녕안녕안녕안녕안녕안녕안녕안녕안녕안녕안녕안녕안녕안녕안녕안녕안녕안녕안녕안녕안녕안녕안녕안녕안녕안녕안녕안녕안녕안녕안녕안녕안녕안녕안녕안녕안녕안녕안녕안녕안녕안녕안녕안녕안녕안녕안녕안녕안녕안녕안녕안녕안녕안녕안녕안녕안녕안녕안녕안녕안녕안녕안녕'"
      ]
     },
     "execution_count": 40,
     "metadata": {},
     "output_type": "execute_result"
    }
   ],
   "source": [
    "\"안녕\" * 100"
   ]
  },
  {
   "cell_type": "code",
   "execution_count": 41,
   "id": "8b6cd811",
   "metadata": {},
   "outputs": [
    {
     "data": {
      "text/plain": [
       "False"
      ]
     },
     "execution_count": 41,
     "metadata": {},
     "output_type": "execute_result"
    }
   ],
   "source": [
    "1 == 2"
   ]
  },
  {
   "cell_type": "markdown",
   "id": "2d280141",
   "metadata": {},
   "source": [
    "## 논리형"
   ]
  },
  {
   "cell_type": "code",
   "execution_count": 42,
   "id": "26ea2c08",
   "metadata": {},
   "outputs": [
    {
     "data": {
      "text/plain": [
       "True"
      ]
     },
     "execution_count": 42,
     "metadata": {},
     "output_type": "execute_result"
    }
   ],
   "source": [
    "6%3 == 0 or 6%5 == 0"
   ]
  },
  {
   "cell_type": "markdown",
   "id": "67c68769",
   "metadata": {},
   "source": [
    "## 조건문"
   ]
  },
  {
   "cell_type": "code",
   "execution_count": null,
   "id": "a188f59a",
   "metadata": {},
   "outputs": [],
   "source": [
    "if 명제1:\n",
    "    명제1이 참일 경우에 실행되는 코드\n",
    "elif 명제2:\n",
    "    명제1은 거짓이지만, 명제2는 참일 경우에 실행되는 코드\n",
    "else:\n",
    "    명제1과 명제2가 모두 거짓일 경우에 실행되는 코드"
   ]
  },
  {
   "cell_type": "code",
   "execution_count": 48,
   "id": "d0a97ffd",
   "metadata": {},
   "outputs": [
    {
     "name": "stdout",
     "output_type": "stream",
     "text": [
      "버스를 타고 간다.\n",
      "우왕 집이다!\n"
     ]
    }
   ],
   "source": [
    "money = 3000\n",
    "\n",
    "if money >= 4000:\n",
    "    print(\"택시를 타고 간다.\")\n",
    "elif money >= 2000:\n",
    "    print(\"버스를 타고 간다.\")\n",
    "else:\n",
    "    print(\"걸어서 간다.\")\n",
    "\n",
    "print(\"우왕 집이다!\")"
   ]
  },
  {
   "cell_type": "markdown",
   "id": "0d1cd2cd",
   "metadata": {},
   "source": [
    "## 리스트, 튜플"
   ]
  },
  {
   "cell_type": "code",
   "execution_count": 60,
   "id": "942872c9",
   "metadata": {},
   "outputs": [],
   "source": [
    "list1 = [\"a\", \"b\", \"c\", \"d\", \"e\"]\n",
    "tuple1 = (\"a\", \"b\", \"c\", \"d\", \"e\")"
   ]
  },
  {
   "cell_type": "code",
   "execution_count": 61,
   "id": "4860bc9d",
   "metadata": {},
   "outputs": [
    {
     "data": {
      "text/plain": [
       "'a'"
      ]
     },
     "execution_count": 61,
     "metadata": {},
     "output_type": "execute_result"
    }
   ],
   "source": [
    "list1[0]"
   ]
  },
  {
   "cell_type": "code",
   "execution_count": 62,
   "id": "23de666b",
   "metadata": {},
   "outputs": [
    {
     "data": {
      "text/plain": [
       "'olleh'"
      ]
     },
     "execution_count": 62,
     "metadata": {},
     "output_type": "execute_result"
    }
   ],
   "source": [
    "\"hello\"[::-1]"
   ]
  },
  {
   "cell_type": "code",
   "execution_count": 63,
   "id": "097094f3",
   "metadata": {},
   "outputs": [
    {
     "data": {
      "text/plain": [
       "['e', 'd', 'c', 'b', 'a']"
      ]
     },
     "execution_count": 63,
     "metadata": {},
     "output_type": "execute_result"
    }
   ],
   "source": [
    "list1[::-1]"
   ]
  },
  {
   "cell_type": "code",
   "execution_count": 64,
   "id": "5a37c4c8",
   "metadata": {},
   "outputs": [],
   "source": [
    "list1.append(\"f\")"
   ]
  },
  {
   "cell_type": "code",
   "execution_count": 65,
   "id": "36499fd9",
   "metadata": {},
   "outputs": [
    {
     "data": {
      "text/plain": [
       "['a', 'b', 'c', 'd', 'e', 'f']"
      ]
     },
     "execution_count": 65,
     "metadata": {},
     "output_type": "execute_result"
    }
   ],
   "source": [
    "list1"
   ]
  },
  {
   "cell_type": "code",
   "execution_count": 68,
   "id": "736e494f",
   "metadata": {},
   "outputs": [],
   "source": [
    "list1.insert(3, \"hello\")"
   ]
  },
  {
   "cell_type": "code",
   "execution_count": 69,
   "id": "73e6de1d",
   "metadata": {},
   "outputs": [
    {
     "data": {
      "text/plain": [
       "['a', 'b', 'c', 'hello', 'd', 'e', 'f']"
      ]
     },
     "execution_count": 69,
     "metadata": {},
     "output_type": "execute_result"
    }
   ],
   "source": [
    "list1"
   ]
  },
  {
   "cell_type": "code",
   "execution_count": 71,
   "id": "89b44e1a",
   "metadata": {},
   "outputs": [
    {
     "data": {
      "text/plain": [
       "True"
      ]
     },
     "execution_count": 71,
     "metadata": {},
     "output_type": "execute_result"
    }
   ],
   "source": [
    "\"b\" > \"a\""
   ]
  },
  {
   "cell_type": "code",
   "execution_count": 72,
   "id": "40608c7f",
   "metadata": {},
   "outputs": [],
   "source": [
    "# 원소 제거\n",
    "del list1[3]"
   ]
  },
  {
   "cell_type": "code",
   "execution_count": 73,
   "id": "4b5d014c",
   "metadata": {},
   "outputs": [
    {
     "data": {
      "text/plain": [
       "['a', 'b', 'c', 'd', 'e', 'f']"
      ]
     },
     "execution_count": 73,
     "metadata": {},
     "output_type": "execute_result"
    }
   ],
   "source": [
    "list1"
   ]
  },
  {
   "cell_type": "code",
   "execution_count": 74,
   "id": "9807d826",
   "metadata": {},
   "outputs": [
    {
     "data": {
      "text/plain": [
       "['a', 'b', 'c', 'd', 'e']"
      ]
     },
     "execution_count": 74,
     "metadata": {},
     "output_type": "execute_result"
    }
   ],
   "source": [
    "# 원소 제거\n",
    "list1.remove(\"f\")\n",
    "list1"
   ]
  },
  {
   "cell_type": "code",
   "execution_count": 75,
   "id": "380c4514",
   "metadata": {},
   "outputs": [
    {
     "data": {
      "text/plain": [
       "'e'"
      ]
     },
     "execution_count": 75,
     "metadata": {},
     "output_type": "execute_result"
    }
   ],
   "source": [
    "list1.pop()"
   ]
  },
  {
   "cell_type": "code",
   "execution_count": 76,
   "id": "1a81c5c7",
   "metadata": {},
   "outputs": [
    {
     "data": {
      "text/plain": [
       "['a', 'b', 'c', 'd']"
      ]
     },
     "execution_count": 76,
     "metadata": {},
     "output_type": "execute_result"
    }
   ],
   "source": [
    "list1"
   ]
  },
  {
   "cell_type": "code",
   "execution_count": 77,
   "id": "072cf394",
   "metadata": {},
   "outputs": [],
   "source": [
    "# 원소 교체\n",
    "list1[3] = \"e\""
   ]
  },
  {
   "cell_type": "code",
   "execution_count": 78,
   "id": "d3da129e",
   "metadata": {},
   "outputs": [
    {
     "data": {
      "text/plain": [
       "['a', 'b', 'c', 'e']"
      ]
     },
     "execution_count": 78,
     "metadata": {},
     "output_type": "execute_result"
    }
   ],
   "source": [
    "list1"
   ]
  },
  {
   "cell_type": "code",
   "execution_count": 79,
   "id": "4f114f0a",
   "metadata": {},
   "outputs": [],
   "source": [
    "list1.reverse()"
   ]
  },
  {
   "cell_type": "code",
   "execution_count": 80,
   "id": "de310e23",
   "metadata": {},
   "outputs": [
    {
     "data": {
      "text/plain": [
       "['e', 'c', 'b', 'a']"
      ]
     },
     "execution_count": 80,
     "metadata": {},
     "output_type": "execute_result"
    }
   ],
   "source": [
    "list1"
   ]
  },
  {
   "cell_type": "code",
   "execution_count": 81,
   "id": "df7453c7",
   "metadata": {},
   "outputs": [],
   "source": [
    "list1.sort()"
   ]
  },
  {
   "cell_type": "code",
   "execution_count": 82,
   "id": "add26f38",
   "metadata": {},
   "outputs": [
    {
     "data": {
      "text/plain": [
       "['a', 'b', 'c', 'e']"
      ]
     },
     "execution_count": 82,
     "metadata": {},
     "output_type": "execute_result"
    }
   ],
   "source": [
    "list1"
   ]
  },
  {
   "cell_type": "code",
   "execution_count": 83,
   "id": "063fa2db",
   "metadata": {},
   "outputs": [],
   "source": [
    "list1.sort(reverse = True)"
   ]
  },
  {
   "cell_type": "code",
   "execution_count": 84,
   "id": "f36373ce",
   "metadata": {},
   "outputs": [
    {
     "data": {
      "text/plain": [
       "['e', 'c', 'b', 'a']"
      ]
     },
     "execution_count": 84,
     "metadata": {},
     "output_type": "execute_result"
    }
   ],
   "source": [
    "list1"
   ]
  },
  {
   "cell_type": "code",
   "execution_count": 85,
   "id": "9f165e4e",
   "metadata": {},
   "outputs": [
    {
     "data": {
      "text/plain": [
       "0.35954281390074927"
      ]
     },
     "execution_count": 85,
     "metadata": {},
     "output_type": "execute_result"
    }
   ],
   "source": [
    "import random\n",
    "random.random()"
   ]
  },
  {
   "cell_type": "markdown",
   "id": "95730343",
   "metadata": {},
   "source": [
    "### 아이템 강화 시스템\n",
    "- 플레이어로부터 아이템 강화 등급을 입력받습니다. (0 ~ 10)\n",
    "- 강화 성공률은 0등급일 때 70%, 1등급일 때 65% ... 1등급이 올라갈 수록 5%씩 하락합니다.\n",
    "- 강화 실패시 50% 확률로 아이템이 파괴됩니다.\n",
    "- 강화 성공시 \"강화 성공\", \"강화 실패 시 \"강화 실패\", 아이템 파괴 시 \"아이템 파괴\"를 출력해주세요."
   ]
  },
  {
   "cell_type": "code",
   "execution_count": 110,
   "id": "262ce9e0",
   "metadata": {},
   "outputs": [
    {
     "name": "stdout",
     "output_type": "stream",
     "text": [
      "현재 아이템의 강화 등급을 입력하세요.: 7\n",
      "강화 성공\n"
     ]
    }
   ],
   "source": [
    "item_rank = int(input(\"현재 아이템의 강화 등급을 입력하세요.: \"))\n",
    "success_rate = int(random.random()*100)\n",
    "if success_rate <= 70 -(item_rank*5):\n",
    "    print(\"강화 성공\")\n",
    "else:\n",
    "    print(\"강화 실패\")\n",
    "    fail_rate = int(random.random()*100)\n",
    "    if fail_rate <= 50:\n",
    "        print(\"아이템 파괴\")\n"
   ]
  },
  {
   "cell_type": "code",
   "execution_count": null,
   "id": "8327f937",
   "metadata": {},
   "outputs": [],
   "source": []
  },
  {
   "cell_type": "code",
   "execution_count": null,
   "id": "3886976c",
   "metadata": {},
   "outputs": [],
   "source": []
  }
 ],
 "metadata": {
  "kernelspec": {
   "display_name": "Python 3 (ipykernel)",
   "language": "python",
   "name": "python3"
  },
  "language_info": {
   "codemirror_mode": {
    "name": "ipython",
    "version": 3
   },
   "file_extension": ".py",
   "mimetype": "text/x-python",
   "name": "python",
   "nbconvert_exporter": "python",
   "pygments_lexer": "ipython3",
   "version": "3.9.12"
  }
 },
 "nbformat": 4,
 "nbformat_minor": 5
}
