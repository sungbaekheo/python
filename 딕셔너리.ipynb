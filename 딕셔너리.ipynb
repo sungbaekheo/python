{
 "cells": [
  {
   "cell_type": "code",
   "execution_count": 3,
   "id": "42a9afbd",
   "metadata": {},
   "outputs": [],
   "source": [
    "csb = {\"name\": \"Sungbaek\", \"age\": 28, \"height\": 169, \"Phone\": \"010-7113-2203\"}"
   ]
  },
  {
   "cell_type": "code",
   "execution_count": 4,
   "id": "3105f196",
   "metadata": {},
   "outputs": [
    {
     "data": {
      "text/plain": [
       "{'name': 'Sungbaek', 'age': 28, 'height': 169, 'Phone': '010-7113-2203'}"
      ]
     },
     "execution_count": 4,
     "metadata": {},
     "output_type": "execute_result"
    }
   ],
   "source": [
    "csb"
   ]
  },
  {
   "cell_type": "code",
   "execution_count": 6,
   "id": "5c7294ab",
   "metadata": {},
   "outputs": [
    {
     "name": "stdout",
     "output_type": "stream",
     "text": [
      "Sungbaek\n",
      "28\n",
      "169\n",
      "010-7113-2203\n"
     ]
    }
   ],
   "source": [
    "for i in csb:\n",
    "    print(csb[i])"
   ]
  },
  {
   "cell_type": "code",
   "execution_count": 7,
   "id": "4680a80b",
   "metadata": {},
   "outputs": [
    {
     "data": {
      "text/plain": [
       "dict_keys(['name', 'age', 'height', 'Phone'])"
      ]
     },
     "execution_count": 7,
     "metadata": {},
     "output_type": "execute_result"
    }
   ],
   "source": [
    "csb.keys()"
   ]
  },
  {
   "cell_type": "code",
   "execution_count": 8,
   "id": "7f8ab526",
   "metadata": {},
   "outputs": [
    {
     "data": {
      "text/plain": [
       "dict_values(['Sungbaek', 28, 169, '010-7113-2203'])"
      ]
     },
     "execution_count": 8,
     "metadata": {},
     "output_type": "execute_result"
    }
   ],
   "source": [
    "csb.values()"
   ]
  },
  {
   "cell_type": "code",
   "execution_count": 10,
   "id": "ad1aa3d9",
   "metadata": {},
   "outputs": [],
   "source": [
    "class1_4 = {\"이름\": [\"홍길동\", \"김철수\", \"최영희\"],\n",
    "            \"나이\": [20, 21, 22],\n",
    "            \"키\": [168, 177, 204]}"
   ]
  },
  {
   "cell_type": "code",
   "execution_count": 11,
   "id": "278e2201",
   "metadata": {},
   "outputs": [
    {
     "data": {
      "text/plain": [
       "['홍길동', '김철수', '최영희']"
      ]
     },
     "execution_count": 11,
     "metadata": {},
     "output_type": "execute_result"
    }
   ],
   "source": [
    "class1_4[\"이름\"]"
   ]
  },
  {
   "cell_type": "code",
   "execution_count": 12,
   "id": "a341c2b3",
   "metadata": {},
   "outputs": [],
   "source": [
    "class1_4[\"발 사이즈\"] = [290, 275, 240]"
   ]
  },
  {
   "cell_type": "code",
   "execution_count": 13,
   "id": "9030f21b",
   "metadata": {},
   "outputs": [
    {
     "data": {
      "text/plain": [
       "{'이름': ['홍길동', '김철수', '최영희'],\n",
       " '나이': [20, 21, 22],\n",
       " '키': [168, 177, 204],\n",
       " '발 사이즈': [290, 275, 240]}"
      ]
     },
     "execution_count": 13,
     "metadata": {},
     "output_type": "execute_result"
    }
   ],
   "source": [
    "class1_4"
   ]
  },
  {
   "cell_type": "code",
   "execution_count": 14,
   "id": "172c63fe",
   "metadata": {},
   "outputs": [],
   "source": [
    "del class1_4[\"발 사이즈\"]"
   ]
  },
  {
   "cell_type": "code",
   "execution_count": 15,
   "id": "5614ba4f",
   "metadata": {},
   "outputs": [
    {
     "data": {
      "text/plain": [
       "{'이름': ['홍길동', '김철수', '최영희'], '나이': [20, 21, 22], '키': [168, 177, 204]}"
      ]
     },
     "execution_count": 15,
     "metadata": {},
     "output_type": "execute_result"
    }
   ],
   "source": [
    "class1_4"
   ]
  },
  {
   "cell_type": "markdown",
   "id": "5e5bfa0c",
   "metadata": {},
   "source": [
    "### class1_4의 \"이름\" key에 할당된 value들을 전부 성을 뺀 이름들로 출력하고 싶습니다.\n",
    "- 홍길동 > 길동\n",
    "- 김철수  > 철수\n",
    "- 김영희 > 영희"
   ]
  },
  {
   "cell_type": "code",
   "execution_count": 16,
   "id": "78d06a4e",
   "metadata": {},
   "outputs": [
    {
     "name": "stdout",
     "output_type": "stream",
     "text": [
      "길동\n",
      "철수\n",
      "영희\n"
     ]
    }
   ],
   "source": [
    "for i in class1_4[\"이름\"]:\n",
    "    print(i[1:])"
   ]
  },
  {
   "cell_type": "code",
   "execution_count": 17,
   "id": "6698809a",
   "metadata": {},
   "outputs": [],
   "source": [
    "class1_4[\"이름\"] = [i[1:] for i in class1_4[\"이름\"]]"
   ]
  },
  {
   "cell_type": "code",
   "execution_count": 18,
   "id": "8d5dd9bc",
   "metadata": {},
   "outputs": [
    {
     "data": {
      "text/plain": [
       "{'이름': ['길동', '철수', '영희'], '나이': [20, 21, 22], '키': [168, 177, 204]}"
      ]
     },
     "execution_count": 18,
     "metadata": {},
     "output_type": "execute_result"
    }
   ],
   "source": [
    "class1_4"
   ]
  },
  {
   "cell_type": "code",
   "execution_count": 19,
   "id": "953f85fb",
   "metadata": {},
   "outputs": [
    {
     "name": "stdout",
     "output_type": "stream",
     "text": [
      "10\n"
     ]
    }
   ],
   "source": [
    "a = 10\n",
    "print(a)"
   ]
  },
  {
   "cell_type": "markdown",
   "id": "e7da3cd0",
   "metadata": {},
   "source": [
    "- 여러 학생의 성적 점수가 다음과 같은 Dictionary로 구성되어 있다."
   ]
  },
  {
   "cell_type": "code",
   "execution_count": 54,
   "id": "c9631285",
   "metadata": {},
   "outputs": [],
   "source": [
    "scores = {\"홍길동\": {\"수학\": 99, \"영어\": 80, \"국어\": 75},\n",
    "          \"김미정\": {\"영어\": 67, \"국어\": 87, \"수학\": 55},\n",
    "          \"정수진\": {\"수학\": 67, \"국어\": 41, \"영어\": 23}}"
   ]
  },
  {
   "cell_type": "code",
   "execution_count": 55,
   "id": "a0fab5bc",
   "metadata": {},
   "outputs": [],
   "source": [
    "korean_score = 0\n",
    "english_score = 0\n",
    "math_score = 0\n",
    "\n",
    "for i in scores:\n",
    "    korean_score += scores[i][\"국어\"]\n",
    "    english_score += scores[i][\"영어\"]\n",
    "    math_score += scores[i][\"수학\"]\n",
    "\n",
    "avg_dic = {\"수학\": round(math_score/len(scores)), \"영어\": round(english_score/len(scores)), \"국어\": round(korean_score/len(scores))}\n",
    "\n",
    "scores[\"평균\"] = avg_dic"
   ]
  },
  {
   "cell_type": "code",
   "execution_count": 56,
   "id": "992e5466",
   "metadata": {},
   "outputs": [
    {
     "data": {
      "text/plain": [
       "{'홍길동': {'수학': 99, '영어': 80, '국어': 75},\n",
       " '김미정': {'영어': 67, '국어': 87, '수학': 55},\n",
       " '정수진': {'수학': 67, '국어': 41, '영어': 23},\n",
       " '평균': {'수학': 74, '영어': 57, '국어': 68}}"
      ]
     },
     "execution_count": 56,
     "metadata": {},
     "output_type": "execute_result"
    }
   ],
   "source": [
    "scores"
   ]
  },
  {
   "cell_type": "code",
   "execution_count": 99,
   "id": "1324cd0e",
   "metadata": {},
   "outputs": [
    {
     "name": "stdout",
     "output_type": "stream",
     "text": [
      "새로운 아이디를 입력하세요.: aklsdfhqo2@@@...aw;120249u#@^209wtueae-809yae8fho....s;aofjpp!@#!@$#@5\n",
      "aklsdfhqo2.aw12\n"
     ]
    }
   ],
   "source": [
    "char = [\"1\", \"2\", \"3\", \"4\", \"5\", \"6\", \"7\", \"8\", \"9\", \"0\", \"a\", \"b\", \"c\", \"d\", \"e\", \"f\", \"g\", \"h\", \"i\", \"j\", \"k\", \"l\", \"m\", \"n\", \"o\", \"p\", \"q\", \"r\", \"s\", \"t\",\" u\", \"v\", \"w\", \"x\", \"y\", \"z\", \"-\", \"_\", \".\"]\n",
    "\n",
    "new_id = input(\"새로운 아이디를 입력하세요.: \")\n",
    "\n",
    "# 1단계\n",
    "new_id = new_id.lower()\n",
    "\n",
    "# 2단계\n",
    "lst = list(new_id)\n",
    "word = []\n",
    "for i in lst:\n",
    "    if i in char:\n",
    "        word.append(i)\n",
    "\n",
    "new_id = \"\".join(word)\n",
    "\n",
    "# 3단계\n",
    "while \"..\" in new_id:\n",
    "    new_id = new_id.replace(\"..\", \".\")\n",
    "    \n",
    "# 4단계\n",
    "new_id = new_id.strip(\".\")\n",
    "\n",
    "# 5단계\n",
    "if new_id == \"\":\n",
    "    new_id = \"a\"\n",
    "\n",
    "# 6단계\n",
    "if len(new_id) >= 16:\n",
    "    new_id = new_id[:15]\n",
    "new_id = new_id.strip(\".\")\n",
    "\n",
    "# 7단계\n",
    "while len(new_id) <= 2:\n",
    "    new_id += new_id[-1]\n",
    "\n",
    "print(new_id)"
   ]
  },
  {
   "cell_type": "code",
   "execution_count": null,
   "id": "eccc0993",
   "metadata": {},
   "outputs": [],
   "source": []
  }
 ],
 "metadata": {
  "kernelspec": {
   "display_name": "Python 3 (ipykernel)",
   "language": "python",
   "name": "python3"
  },
  "language_info": {
   "codemirror_mode": {
    "name": "ipython",
    "version": 3
   },
   "file_extension": ".py",
   "mimetype": "text/x-python",
   "name": "python",
   "nbconvert_exporter": "python",
   "pygments_lexer": "ipython3",
   "version": "3.9.12"
  }
 },
 "nbformat": 4,
 "nbformat_minor": 5
}
