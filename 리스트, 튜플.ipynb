{
 "cells": [
  {
   "cell_type": "code",
   "execution_count": 1,
   "id": "7971d1b6",
   "metadata": {},
   "outputs": [],
   "source": [
    "a = [1, 2, 3, 4]"
   ]
  },
  {
   "cell_type": "code",
   "execution_count": 2,
   "id": "2d6157e3",
   "metadata": {},
   "outputs": [],
   "source": [
    "b = [\"My\", \"name\", \"is\", \"sungbaek\"]"
   ]
  },
  {
   "cell_type": "code",
   "execution_count": 3,
   "id": "46175dea",
   "metadata": {},
   "outputs": [
    {
     "data": {
      "text/plain": [
       "['My', 'name', 'is', 'sungbaek']"
      ]
     },
     "execution_count": 3,
     "metadata": {},
     "output_type": "execute_result"
    }
   ],
   "source": [
    "b"
   ]
  },
  {
   "cell_type": "code",
   "execution_count": 4,
   "id": "54eb7d57",
   "metadata": {},
   "outputs": [],
   "source": [
    "del a[0]\n"
   ]
  },
  {
   "cell_type": "code",
   "execution_count": 5,
   "id": "4ef22754",
   "metadata": {},
   "outputs": [
    {
     "data": {
      "text/plain": [
       "[2, 3, 4]"
      ]
     },
     "execution_count": 5,
     "metadata": {},
     "output_type": "execute_result"
    }
   ],
   "source": [
    "a"
   ]
  },
  {
   "cell_type": "code",
   "execution_count": 6,
   "id": "4a98a66d",
   "metadata": {},
   "outputs": [],
   "source": [
    "del a[2]"
   ]
  },
  {
   "cell_type": "code",
   "execution_count": 7,
   "id": "e6f82df0",
   "metadata": {},
   "outputs": [
    {
     "data": {
      "text/plain": [
       "[2, 3]"
      ]
     },
     "execution_count": 7,
     "metadata": {},
     "output_type": "execute_result"
    }
   ],
   "source": [
    "a"
   ]
  },
  {
   "cell_type": "code",
   "execution_count": 8,
   "id": "7a32c2b3",
   "metadata": {},
   "outputs": [],
   "source": [
    "a.append(1)"
   ]
  },
  {
   "cell_type": "code",
   "execution_count": 9,
   "id": "def2a62a",
   "metadata": {},
   "outputs": [],
   "source": [
    "a.append(4)\n",
    "a.append(5)"
   ]
  },
  {
   "cell_type": "code",
   "execution_count": 10,
   "id": "a056fd24",
   "metadata": {},
   "outputs": [
    {
     "data": {
      "text/plain": [
       "[2, 3, 1, 4, 5]"
      ]
     },
     "execution_count": 10,
     "metadata": {},
     "output_type": "execute_result"
    }
   ],
   "source": [
    "a"
   ]
  },
  {
   "cell_type": "code",
   "execution_count": 11,
   "id": "f87201cf",
   "metadata": {},
   "outputs": [
    {
     "data": {
      "text/plain": [
       "[1, 2, 3, 4, 5]"
      ]
     },
     "execution_count": 11,
     "metadata": {},
     "output_type": "execute_result"
    }
   ],
   "source": [
    "a.sort()\n",
    "a"
   ]
  },
  {
   "cell_type": "code",
   "execution_count": 12,
   "id": "269518d7",
   "metadata": {},
   "outputs": [],
   "source": [
    "del a[2]"
   ]
  },
  {
   "cell_type": "code",
   "execution_count": 13,
   "id": "e6fe286b",
   "metadata": {},
   "outputs": [
    {
     "data": {
      "text/plain": [
       "[1, 2, 4, 5]"
      ]
     },
     "execution_count": 13,
     "metadata": {},
     "output_type": "execute_result"
    }
   ],
   "source": [
    "a"
   ]
  },
  {
   "cell_type": "code",
   "execution_count": 14,
   "id": "7d161f54",
   "metadata": {},
   "outputs": [],
   "source": [
    "a.append(2)"
   ]
  },
  {
   "cell_type": "code",
   "execution_count": 15,
   "id": "ddbb1af1",
   "metadata": {},
   "outputs": [],
   "source": [
    "a.append(4)"
   ]
  },
  {
   "cell_type": "code",
   "execution_count": 16,
   "id": "f2d5c5e7",
   "metadata": {},
   "outputs": [
    {
     "data": {
      "text/plain": [
       "[1, 2, 4, 5, 2, 4]"
      ]
     },
     "execution_count": 16,
     "metadata": {},
     "output_type": "execute_result"
    }
   ],
   "source": [
    "a"
   ]
  },
  {
   "cell_type": "code",
   "execution_count": 17,
   "id": "b6e65215",
   "metadata": {},
   "outputs": [],
   "source": [
    "a.remove(2)"
   ]
  },
  {
   "cell_type": "code",
   "execution_count": 18,
   "id": "78dad206",
   "metadata": {},
   "outputs": [
    {
     "data": {
      "text/plain": [
       "[1, 4, 5, 2, 4]"
      ]
     },
     "execution_count": 18,
     "metadata": {},
     "output_type": "execute_result"
    }
   ],
   "source": [
    "a"
   ]
  },
  {
   "cell_type": "code",
   "execution_count": 19,
   "id": "e1e54540",
   "metadata": {},
   "outputs": [],
   "source": [
    "a.remove(4)"
   ]
  },
  {
   "cell_type": "code",
   "execution_count": 20,
   "id": "3c722854",
   "metadata": {},
   "outputs": [
    {
     "data": {
      "text/plain": [
       "[1, 5, 2, 4]"
      ]
     },
     "execution_count": 20,
     "metadata": {},
     "output_type": "execute_result"
    }
   ],
   "source": [
    "a"
   ]
  },
  {
   "cell_type": "code",
   "execution_count": 21,
   "id": "e0d65f49",
   "metadata": {},
   "outputs": [],
   "source": [
    "a.sort()"
   ]
  },
  {
   "cell_type": "code",
   "execution_count": 22,
   "id": "1e94ca30",
   "metadata": {},
   "outputs": [
    {
     "data": {
      "text/plain": [
       "[1, 2, 4, 5]"
      ]
     },
     "execution_count": 22,
     "metadata": {},
     "output_type": "execute_result"
    }
   ],
   "source": [
    "a"
   ]
  },
  {
   "cell_type": "code",
   "execution_count": 24,
   "id": "dd6da685",
   "metadata": {},
   "outputs": [],
   "source": [
    "a.sort(reverse = True)"
   ]
  },
  {
   "cell_type": "code",
   "execution_count": 25,
   "id": "2b63d476",
   "metadata": {},
   "outputs": [
    {
     "data": {
      "text/plain": [
       "[5, 4, 2, 1]"
      ]
     },
     "execution_count": 25,
     "metadata": {},
     "output_type": "execute_result"
    }
   ],
   "source": [
    "a"
   ]
  },
  {
   "cell_type": "code",
   "execution_count": 26,
   "id": "5bb526d2",
   "metadata": {},
   "outputs": [],
   "source": [
    "a.reverse()"
   ]
  },
  {
   "cell_type": "code",
   "execution_count": 27,
   "id": "5710bd46",
   "metadata": {},
   "outputs": [
    {
     "data": {
      "text/plain": [
       "[1, 2, 4, 5]"
      ]
     },
     "execution_count": 27,
     "metadata": {},
     "output_type": "execute_result"
    }
   ],
   "source": [
    "a"
   ]
  },
  {
   "cell_type": "code",
   "execution_count": 37,
   "id": "bc9408d2",
   "metadata": {},
   "outputs": [],
   "source": [
    "convenient_store = [\"사이다\", \"콜라\", \"주스\"]"
   ]
  },
  {
   "cell_type": "code",
   "execution_count": 41,
   "id": "d3f7f176",
   "metadata": {},
   "outputs": [
    {
     "data": {
      "text/plain": [
       "True"
      ]
     },
     "execution_count": 41,
     "metadata": {},
     "output_type": "execute_result"
    }
   ],
   "source": [
    "\"카프리썬\" not in convenient_store"
   ]
  },
  {
   "cell_type": "code",
   "execution_count": 42,
   "id": "07e523f5",
   "metadata": {},
   "outputs": [
    {
     "data": {
      "text/plain": [
       "True"
      ]
     },
     "execution_count": 42,
     "metadata": {},
     "output_type": "execute_result"
    }
   ],
   "source": [
    "\"이다\" in convenient_store[0]"
   ]
  },
  {
   "cell_type": "code",
   "execution_count": 43,
   "id": "5125280f",
   "metadata": {},
   "outputs": [],
   "source": [
    "import random"
   ]
  },
  {
   "cell_type": "code",
   "execution_count": 47,
   "id": "20668d16",
   "metadata": {},
   "outputs": [
    {
     "data": {
      "text/plain": [
       "78"
      ]
     },
     "execution_count": 47,
     "metadata": {},
     "output_type": "execute_result"
    }
   ],
   "source": [
    "int(random.random()*100)"
   ]
  },
  {
   "cell_type": "code",
   "execution_count": 56,
   "id": "b5dd7035",
   "metadata": {},
   "outputs": [
    {
     "data": {
      "text/plain": [
       "2"
      ]
     },
     "execution_count": 56,
     "metadata": {},
     "output_type": "execute_result"
    }
   ],
   "source": [
    "l = [1, 2, 3, 4, 5]\n",
    "random.choice(l)"
   ]
  },
  {
   "cell_type": "markdown",
   "id": "5ecfa571",
   "metadata": {},
   "source": [
    "### 가위바위보 게임 만들기"
   ]
  },
  {
   "cell_type": "markdown",
   "id": "7689f914",
   "metadata": {},
   "source": [
    "- 플레이어에게 가위, 바위, 보 중 하나를 입력하게 합니다.\n",
    "- 플레이어가 말을 안 듣고 가위, 바위, 보 중 어느 것도 내지 않았을 대에는 잘못된 입력입니다.\"를 출력하세요.\n",
    "- 컴퓨터는 동일한 확률로 가위, 바위, 보 중 하나를 냅니다.\n",
    "- 플레이어의 입력과 컴퓨터의 입력을 비교하여 승부를 결정합니다.\n",
    "- 출력문은 \"당신은 가위를 냈고, 컴퓨터는 보를 냈습니다. 당신이 이겼습니다.\"와 같은 형식으로 합니다."
   ]
  },
  {
   "cell_type": "code",
   "execution_count": 5,
   "id": "067fc3f4",
   "metadata": {},
   "outputs": [
    {
     "name": "stdout",
     "output_type": "stream",
     "text": [
      "가위, 바위, 보 중 하나를 입력하세요.: 바위\n",
      "당신은 바위를 냈고, 컴퓨터는 가위를 냈습니다. 당신은 이겼습니다.\n"
     ]
    }
   ],
   "source": [
    "import random\n",
    "player = input(\"가위, 바위, 보 중 하나를 입력하세요.: \")\n",
    "lst = [\"가위\", \"바위\", \"보\"]\n",
    "computer = random.choice(lst)\n",
    "\n",
    "if player not in lst:\n",
    "    print(\"잘못된 입력입니다.\")\n",
    "else:\n",
    "    if computer == player:\n",
    "        print(f\"당신은 {player}를 냈고, 컴퓨터는 {computer}를 냈습니다. 당신은 비겼습니다.\")\n",
    "            \n",
    "    elif (computer == \"바위\" and player == \"보\") or (computer == \"가위\" and player == \"바위\") or (computer == \"보\" and player ==\"가위\"):\n",
    "        print(f\"당신은 {player}를 냈고, 컴퓨터는 {computer}를 냈습니다. 당신은 이겼습니다.\")\n",
    "        \n",
    "    else:\n",
    "        print(f\"당신은 {player}를 냈고, 컴퓨터는 {computer}를 냈습니다. 당신은 졌습니다.\")\n",
    "\n",
    "    "
   ]
  },
  {
   "cell_type": "code",
   "execution_count": null,
   "id": "00be2f5d",
   "metadata": {},
   "outputs": [],
   "source": []
  },
  {
   "cell_type": "code",
   "execution_count": null,
   "id": "aca7d390",
   "metadata": {},
   "outputs": [],
   "source": []
  }
 ],
 "metadata": {
  "kernelspec": {
   "display_name": "Python 3 (ipykernel)",
   "language": "python",
   "name": "python3"
  },
  "language_info": {
   "codemirror_mode": {
    "name": "ipython",
    "version": 3
   },
   "file_extension": ".py",
   "mimetype": "text/x-python",
   "name": "python",
   "nbconvert_exporter": "python",
   "pygments_lexer": "ipython3",
   "version": "3.9.12"
  }
 },
 "nbformat": 4,
 "nbformat_minor": 5
}
