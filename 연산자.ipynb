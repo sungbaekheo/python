{
 "cells": [
  {
   "cell_type": "markdown",
   "id": "eec644f9",
   "metadata": {},
   "source": [
    "## 시간 파싱하기"
   ]
  },
  {
   "cell_type": "code",
   "execution_count": 7,
   "id": "dc13056a",
   "metadata": {},
   "outputs": [
    {
     "data": {
      "text/plain": [
       "'22-08-10 14:32:58'"
      ]
     },
     "execution_count": 7,
     "metadata": {},
     "output_type": "execute_result"
    }
   ],
   "source": [
    "import datetime\n",
    "datetime.datetime.now().strftime(\"%y-%m-%d %H:%M:%S\")"
   ]
  },
  {
   "cell_type": "code",
   "execution_count": 17,
   "id": "6690c4ce",
   "metadata": {},
   "outputs": [],
   "source": [
    "date = datetime.datetime.now().strftime(\"%Y-%m-%d %H:%M:%S\")"
   ]
  },
  {
   "cell_type": "code",
   "execution_count": 18,
   "id": "5f6806f0",
   "metadata": {},
   "outputs": [
    {
     "data": {
      "text/plain": [
       "'2022-08-10 14:43:23'"
      ]
     },
     "execution_count": 18,
     "metadata": {},
     "output_type": "execute_result"
    }
   ],
   "source": [
    "date"
   ]
  },
  {
   "cell_type": "code",
   "execution_count": 19,
   "id": "048a0492",
   "metadata": {},
   "outputs": [],
   "source": [
    "day, time = date.split(\" \")\n",
    "day = day.split(\"-\")\n",
    "time = time.split(\":\")"
   ]
  },
  {
   "cell_type": "code",
   "execution_count": 20,
   "id": "b4228dca",
   "metadata": {},
   "outputs": [
    {
     "data": {
      "text/plain": [
       "['14', '43', '23']"
      ]
     },
     "execution_count": 20,
     "metadata": {},
     "output_type": "execute_result"
    }
   ],
   "source": [
    "day\n",
    "time"
   ]
  },
  {
   "cell_type": "code",
   "execution_count": 21,
   "id": "8662d886",
   "metadata": {},
   "outputs": [
    {
     "data": {
      "text/plain": [
       "['2022', '08', '10']"
      ]
     },
     "execution_count": 21,
     "metadata": {},
     "output_type": "execute_result"
    }
   ],
   "source": [
    "day\n"
   ]
  },
  {
   "cell_type": "code",
   "execution_count": 22,
   "id": "f60c66d1",
   "metadata": {},
   "outputs": [
    {
     "name": "stdout",
     "output_type": "stream",
     "text": [
      "2022년 08월 10일 14시 43분 23초\n"
     ]
    }
   ],
   "source": [
    "print(\"{}년 {}월 {}일 {}시 {}분 {}초\".format(day[0], day[1], day[2], time[0], time[1], time[2]))"
   ]
  },
  {
   "cell_type": "markdown",
   "id": "51dcc500",
   "metadata": {},
   "source": [
    "- input 함수로 초단위의 시간을 받습니다.\n",
    "- 그 시간을 시간, 분, 초로 나누어서 출력합니다."
   ]
  },
  {
   "cell_type": "code",
   "execution_count": 25,
   "id": "a759c16f",
   "metadata": {},
   "outputs": [
    {
     "name": "stdout",
     "output_type": "stream",
     "text": [
      "초단위로 시간을 입력하세요.: 3653\n",
      "1시간 0분 53초\n"
     ]
    }
   ],
   "source": [
    "times = int(input(\"초단위로 시간을 입력하세요.: \"))\n",
    "times, s = divmod(times, 60)\n",
    "h, m = divmod(times, 60)\n",
    "\n",
    "print(f\"{h}시간 {m}분 {s}초\")"
   ]
  },
  {
   "cell_type": "code",
   "execution_count": 26,
   "id": "ba1b5171",
   "metadata": {},
   "outputs": [],
   "source": [
    "num += 3"
   ]
  },
  {
   "cell_type": "code",
   "execution_count": 27,
   "id": "d90b41c1",
   "metadata": {},
   "outputs": [
    {
     "data": {
      "text/plain": [
       "6"
      ]
     },
     "execution_count": 27,
     "metadata": {},
     "output_type": "execute_result"
    }
   ],
   "source": [
    "num"
   ]
  },
  {
   "cell_type": "code",
   "execution_count": 30,
   "id": "af8e3e64",
   "metadata": {},
   "outputs": [
    {
     "name": "stdout",
     "output_type": "stream",
     "text": [
      "0\n"
     ]
    },
    {
     "data": {
      "text/plain": [
       "True"
      ]
     },
     "execution_count": 30,
     "metadata": {},
     "output_type": "execute_result"
    }
   ],
   "source": [
    "num = int(input())\n",
    "\n",
    "num == 0 or num == 1"
   ]
  },
  {
   "cell_type": "markdown",
   "id": "8755edab",
   "metadata": {},
   "source": [
    "- input 함수로 num에 임의의 정수를 입력받습니다.\n",
    "- 입력된 수가 2의 배수이자, 3의 배수이면 True, 그렇지 않으면 False를 출력합니다."
   ]
  },
  {
   "cell_type": "code",
   "execution_count": 33,
   "id": "f5a194a6",
   "metadata": {},
   "outputs": [
    {
     "name": "stdout",
     "output_type": "stream",
     "text": [
      "num에 대입할 정수를 입력하세요.: 9\n",
      "False\n"
     ]
    }
   ],
   "source": [
    "num = int(input(\"num에 대입할 정수를 입력하세요.: \"))\n",
    "\n",
    "print(num%2 == 0 and num%3 == 0)"
   ]
  },
  {
   "cell_type": "code",
   "execution_count": 32,
   "id": "66a28acd",
   "metadata": {},
   "outputs": [
    {
     "name": "stdout",
     "output_type": "stream",
     "text": [
      "num2에 대입할 정수를 입력하세요.: 9\n",
      "True\n"
     ]
    }
   ],
   "source": [
    "num2 = int(input(\"num2에 대입할 정수를 입력하세요.: \"))\n",
    "\n",
    "print(num2%2 == 0 or num2%3 == 0)"
   ]
  },
  {
   "cell_type": "code",
   "execution_count": null,
   "id": "6f621ace",
   "metadata": {},
   "outputs": [],
   "source": []
  }
 ],
 "metadata": {
  "kernelspec": {
   "display_name": "Python 3 (ipykernel)",
   "language": "python",
   "name": "python3"
  },
  "language_info": {
   "codemirror_mode": {
    "name": "ipython",
    "version": 3
   },
   "file_extension": ".py",
   "mimetype": "text/x-python",
   "name": "python",
   "nbconvert_exporter": "python",
   "pygments_lexer": "ipython3",
   "version": "3.9.12"
  }
 },
 "nbformat": 4,
 "nbformat_minor": 5
}
