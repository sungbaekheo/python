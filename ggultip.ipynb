{
 "cells": [
  {
   "cell_type": "code",
   "execution_count": null,
   "id": "9905f401",
   "metadata": {},
   "outputs": [],
   "source": [
    "def jegop(x, y):\n",
    "    sq_sum = 0\n",
    "    n_sum = 0\n",
    "    sum_sq = 0\n",
    "    for i in range(x, y+1):\n",
    "        sq_sum += i**2\n",
    "        n_sum += i\n",
    "    sum_sq = n_sum**2\n",
    "\n",
    "    return sum_sq - sq_sum"
   ]
  }
 ],
 "metadata": {
  "kernelspec": {
   "display_name": "Python 3 (ipykernel)",
   "language": "python",
   "name": "python3"
  },
  "language_info": {
   "codemirror_mode": {
    "name": "ipython",
    "version": 3
   },
   "file_extension": ".py",
   "mimetype": "text/x-python",
   "name": "python",
   "nbconvert_exporter": "python",
   "pygments_lexer": "ipython3",
   "version": "3.9.12"
  }
 },
 "nbformat": 4,
 "nbformat_minor": 5
}
