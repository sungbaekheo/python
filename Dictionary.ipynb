{
 "cells": [
  {
   "cell_type": "code",
   "execution_count": 4,
   "id": "c47e8c90",
   "metadata": {},
   "outputs": [
    {
     "name": "stdout",
     "output_type": "stream",
     "text": [
      "25164150\n"
     ]
    }
   ],
   "source": [
    "#제곱의 합\n",
    "\n",
    "sq_sum = 0\n",
    "n_sum = 0\n",
    "sum_sq = 0\n",
    "for i in range(1, 101):\n",
    "    sq_sum += i**2\n",
    "    n_sum += i\n",
    "sum_sq = n_sum**2\n",
    "\n",
    "print(sum_sq - sq_sum)"
   ]
  },
  {
   "cell_type": "markdown",
   "id": "a35865e6",
   "metadata": {},
   "source": [
    "## 딕셔너리"
   ]
  },
  {
   "cell_type": "code",
   "execution_count": 7,
   "id": "43cd5c68",
   "metadata": {},
   "outputs": [],
   "source": [
    "gg = [\"사과\", \"바나나\", \"포도\"]\n",
    "price = [800, 1000, 800]\n",
    "dic_gg = {gg[i]:price[i] for i in range(len(gg))}"
   ]
  },
  {
   "cell_type": "code",
   "execution_count": 14,
   "id": "1fd44987",
   "metadata": {},
   "outputs": [],
   "source": [
    "dic_gg\n",
    "dic_gg[\"파인애플\"] = 1200"
   ]
  },
  {
   "cell_type": "code",
   "execution_count": 16,
   "id": "92537116",
   "metadata": {},
   "outputs": [
    {
     "data": {
      "text/plain": [
       "['파인애플', '바나나', '사과', '포도']"
      ]
     },
     "execution_count": 16,
     "metadata": {},
     "output_type": "execute_result"
    }
   ],
   "source": [
    "sorted_dic_gg"
   ]
  },
  {
   "cell_type": "code",
   "execution_count": 19,
   "id": "458b3f2e",
   "metadata": {},
   "outputs": [],
   "source": [
    "gg = [\"사과\", \"바나나\", \"포도\"]\n",
    "price = [800, 1000, 800]\n",
    "dic_gg = {gg[i]:int(price[i]*1.1) for i in range(len(gg))}"
   ]
  },
  {
   "cell_type": "code",
   "execution_count": 20,
   "id": "dc3375dc",
   "metadata": {},
   "outputs": [
    {
     "data": {
      "text/plain": [
       "{'사과': 880, '바나나': 1100, '포도': 880}"
      ]
     },
     "execution_count": 20,
     "metadata": {},
     "output_type": "execute_result"
    }
   ],
   "source": [
    "dic_gg"
   ]
  },
  {
   "cell_type": "code",
   "execution_count": 26,
   "id": "bce3def4",
   "metadata": {},
   "outputs": [],
   "source": [
    "dic_gg2 = {\"사과\": 800,  \"바나나\": 1000, \"포도\": 800}"
   ]
  },
  {
   "cell_type": "code",
   "execution_count": 27,
   "id": "74073a03",
   "metadata": {},
   "outputs": [],
   "source": [
    "for i in dic_gg2:\n",
    "    dic_gg2[i] =int(dic_gg2[i]*1.1)"
   ]
  },
  {
   "cell_type": "code",
   "execution_count": 28,
   "id": "a8f862fc",
   "metadata": {
    "scrolled": true
   },
   "outputs": [
    {
     "data": {
      "text/plain": [
       "{'사과': 880, '바나나': 1100, '포도': 880}"
      ]
     },
     "execution_count": 28,
     "metadata": {},
     "output_type": "execute_result"
    }
   ],
   "source": [
    "dic_gg2"
   ]
  },
  {
   "cell_type": "markdown",
   "id": "1a5d9c98",
   "metadata": {},
   "source": [
    "### 전국 사과 가격의 평균을 구해주세요."
   ]
  },
  {
   "cell_type": "code",
   "execution_count": 37,
   "id": "e663a920",
   "metadata": {},
   "outputs": [],
   "source": [
    "ggg = {\"서울점\": {\"사과\": 800, \"바나나\": 1000, \"포도\": 800},\n",
    "       \"부산점\": {\"사과\": 700, \"바나나\": 900, \"포도\": 900},\n",
    "       \"대구점\": {\"사과\": 750, \"바나나\": 800, \"포도\": 1000}}\n",
    "\n",
    "apple_avg = round(sum([ggg[i][\"사과\"] for i in ggg])/len(ggg))\n",
    "banana_avg = round(sum([ggg[i][\"바나나\"] for i in ggg])/len(ggg))\n",
    "grape_avg = round(sum([ggg[i][\"포도\"] for i in ggg])/len(ggg))"
   ]
  },
  {
   "cell_type": "code",
   "execution_count": 40,
   "id": "b1acb84f",
   "metadata": {},
   "outputs": [
    {
     "name": "stdout",
     "output_type": "stream",
     "text": [
      "사과의 평균가격은 750원입니다.\n",
      "바나나의 평균가격은 900원입니다.\n",
      "포도의 평균가격은 900원입니다.\n"
     ]
    }
   ],
   "source": [
    "print(f\"사과의 평균가격은 {apple_avg}원입니다.\")\n",
    "print(f\"바나나의 평균가격은 {banana_avg}원입니다.\")\n",
    "print(f\"포도의 평균가격은 {grape_avg}원입니다.\")"
   ]
  },
  {
   "cell_type": "code",
   "execution_count": 41,
   "id": "9978a04a",
   "metadata": {},
   "outputs": [
    {
     "data": {
      "text/plain": [
       "7"
      ]
     },
     "execution_count": 41,
     "metadata": {},
     "output_type": "execute_result"
    }
   ],
   "source": [
    "def add(x, y):\n",
    "    return x + y\n",
    "\n",
    "a = 3\n",
    "b = 4\n",
    "\n",
    "answer = add(a, b)\n",
    "answer"
   ]
  },
  {
   "cell_type": "code",
   "execution_count": 42,
   "id": "32e0f1ca",
   "metadata": {},
   "outputs": [],
   "source": [
    "def jegop(x, y):\n",
    "    sq_sum = 0\n",
    "    n_sum = 0\n",
    "    sum_sq = 0\n",
    "    for i in range(x, y+1):\n",
    "        sq_sum += i**2\n",
    "        n_sum += i\n",
    "    sum_sq = n_sum**2\n",
    "\n",
    "    return sum_sq - sq_sum"
   ]
  },
  {
   "cell_type": "code",
   "execution_count": 43,
   "id": "813d52a7",
   "metadata": {},
   "outputs": [
    {
     "data": {
      "text/plain": [
       "25164150"
      ]
     },
     "execution_count": 43,
     "metadata": {},
     "output_type": "execute_result"
    }
   ],
   "source": [
    "jegop(1, 100)"
   ]
  },
  {
   "cell_type": "code",
   "execution_count": null,
   "id": "a62123f1",
   "metadata": {},
   "outputs": [],
   "source": []
  }
 ],
 "metadata": {
  "kernelspec": {
   "display_name": "Python 3 (ipykernel)",
   "language": "python",
   "name": "python3"
  },
  "language_info": {
   "codemirror_mode": {
    "name": "ipython",
    "version": 3
   },
   "file_extension": ".py",
   "mimetype": "text/x-python",
   "name": "python",
   "nbconvert_exporter": "python",
   "pygments_lexer": "ipython3",
   "version": "3.9.12"
  }
 },
 "nbformat": 4,
 "nbformat_minor": 5
}
