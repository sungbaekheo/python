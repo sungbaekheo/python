{
 "cells": [
  {
   "cell_type": "code",
   "execution_count": 1,
   "id": "63a4104b",
   "metadata": {},
   "outputs": [],
   "source": [
    "from ggultip import jegop"
   ]
  },
  {
   "cell_type": "code",
   "execution_count": 3,
   "id": "f7a6ac81",
   "metadata": {},
   "outputs": [
    {
     "data": {
      "text/plain": [
       "25164150"
      ]
     },
     "execution_count": 3,
     "metadata": {},
     "output_type": "execute_result"
    }
   ],
   "source": [
    "jegop(1, 100)"
   ]
  },
  {
   "cell_type": "code",
   "execution_count": null,
   "id": "500f1c17",
   "metadata": {},
   "outputs": [],
   "source": []
  }
 ],
 "metadata": {
  "kernelspec": {
   "display_name": "Python 3 (ipykernel)",
   "language": "python",
   "name": "python3"
  },
  "language_info": {
   "codemirror_mode": {
    "name": "ipython",
    "version": 3
   },
   "file_extension": ".py",
   "mimetype": "text/x-python",
   "name": "python",
   "nbconvert_exporter": "python",
   "pygments_lexer": "ipython3",
   "version": "3.9.12"
  }
 },
 "nbformat": 4,
 "nbformat_minor": 5
}
